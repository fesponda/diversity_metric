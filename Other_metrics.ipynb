{
 "cells": [
  {
   "cell_type": "markdown",
   "metadata": {},
   "source": [
    "### This file contains the code to compute the similarity metric between an original file and its variants. It is parametrized by whether the file should be read as instructions or bytes.\n",
    "\n",
    "Some earier file has the code to compute similarity between variants and plot this against effectiveness to prevent attacks"
   ]
  },
  {
   "cell_type": "code",
   "execution_count": 1,
   "metadata": {},
   "outputs": [],
   "source": [
    "from scipy.stats import spearmanr, stats\n",
    "from scipy.spatial.distance import euclidean\n",
    "from random import randint, shuffle,sample,random\n",
    "from os import listdir\n",
    "from os.path import isfile, join\n",
    "import numpy as np\n",
    "import matplotlib.pyplot as plt\n",
    "% matplotlib inline\n",
    "path='/Users/fesponda/research/Diversity/Data/probNog_probBilr_randomized_2/'\n",
    "\n",
    "ORIGINAL_FILE=path+'original'\n",
    "TRANSFORMATION_INTENSITY_FILE='percent_bytes_moved'\n",
    "OUTPUT_GRAPH='probNog_probBilr_randomized_2.pdf'\n",
    "\n",
    "###Variable that controls if data is treated as bytes or instructions\n",
    "BYTE_FILE=True\n",
    "if BYTE_FILE:\n",
    "    TRANSFORMS_DIR=path+'binaries/'\n",
    "else:\n",
    "    TRANSFORMS_DIR=path+'instructions/'\n"
   ]
  },
  {
   "cell_type": "markdown",
   "metadata": {},
   "source": [
    "# Function Definitions"
   ]
  },
  {
   "cell_type": "code",
   "execution_count": 2,
   "metadata": {},
   "outputs": [],
   "source": [
    "def read_instructions(file1):\n",
    "    f=open(file1, 'r')\n",
    "    P1=[]\n",
    "    for line in f:\n",
    "        P1.append(line.strip().replace(\" \",\"\"))\n",
    "    return P1\n",
    "\n"
   ]
  },
  {
   "cell_type": "code",
   "execution_count": 3,
   "metadata": {},
   "outputs": [],
   "source": [
    "def read_ELF(file1):\n",
    "    with open(file1, 'rb') as f:\n",
    "        P1=list(f.read())\n",
    "    return P1\n",
    "\n"
   ]
  },
  {
   "cell_type": "code",
   "execution_count": 4,
   "metadata": {},
   "outputs": [],
   "source": [
    "#P1=read_instructions(ORIGINAL_FILE)\n"
   ]
  },
  {
   "cell_type": "code",
   "execution_count": 5,
   "metadata": {},
   "outputs": [],
   "source": [
    "def read_instructions_only_inst(file1):\n",
    "    f=open(file1, 'r')\n",
    "    P1=[]\n",
    "    for line in f:\n",
    "        P1.append(line.split()[0])\n",
    "    return P1\n"
   ]
  },
  {
   "cell_type": "code",
   "execution_count": 6,
   "metadata": {},
   "outputs": [],
   "source": [
    "def read_file(file1,BYTE_FILE):\n",
    "    if BYTE_FILE: \n",
    "        return read_ELF(file1)\n",
    "    else:\n",
    "        return read_instructions(file1)"
   ]
  },
  {
   "cell_type": "code",
   "execution_count": 7,
   "metadata": {},
   "outputs": [],
   "source": [
    "##Create dictionary. For each byte in the block we create unique entry. If a byte is repeated we append if its the first, second, etc occurrence\n",
    "def P1_dictionary(P1):\n",
    "    P1_dict={}\n",
    "    P1_occ={}\n",
    "    for index,byte in enumerate(P1):   \n",
    "        if byte  in P1_occ.keys():\n",
    "            P1_occ[byte]+=1\n",
    "        else:\n",
    "            P1_occ[byte]=1\n",
    "        value=str(byte)+'_'+str(P1_occ[byte]) ## here we create a unique value for each byte in the section\n",
    "        P1_dict[value]=index+1 #we start to count at 1\n",
    "    return P1_dict"
   ]
  },
  {
   "cell_type": "code",
   "execution_count": 8,
   "metadata": {},
   "outputs": [],
   "source": [
    "####Rank instructions of a block according to first file template\n",
    "def rank_P2(P1_dict,P2,intersection=False):\n",
    "    a=[]        \n",
    "    b=[]\n",
    "    med_rank=len(P1_dict.keys())/2.0\n",
    "    P2_dict={}\n",
    "    P2_occ={}\n",
    "    for index,byte in enumerate(P2):   \n",
    "        if byte  in P2_occ.keys():\n",
    "            P2_occ[byte]+=1\n",
    "        else:\n",
    "            P2_occ[byte]=1\n",
    "        value=str(byte)+'_'+str(P2_occ[byte]) ## here we create a unique value for each byte in the section\n",
    "        if value in P1_dict.keys():\n",
    "            P2_dict[value]=P1_dict[value]\n",
    "            a.append(index+1)\n",
    "            b.append(P2_dict[value])\n",
    "        elif not intersection:\n",
    "            P2_dict[value]=0 ###zero for no existent value....check Maybe not bother, Maybe random, maybe average\n",
    "            P2_dict[value]=med_rank \n",
    "            #P2_dict[value]=randint(1,90)\n",
    "            a.append(index+1)\n",
    "            b.append(P2_dict[value])\n",
    "            \n",
    "    #print(len(a),len(b))\n",
    "    return a,b\n",
    "\n"
   ]
  },
  {
   "cell_type": "markdown",
   "metadata": {},
   "source": [
    "# Execution"
   ]
  },
  {
   "cell_type": "code",
   "execution_count": 31,
   "metadata": {},
   "outputs": [],
   "source": [
    "# Get list of files\n",
    "l = [f for f in listdir(TRANSFORMS_DIR) if isfile(join(TRANSFORMS_DIR, f)) and f[0]!='.']"
   ]
  },
  {
   "cell_type": "markdown",
   "metadata": {},
   "source": [
    "# Using other metrics"
   ]
  },
  {
   "cell_type": "code",
   "execution_count": 32,
   "metadata": {},
   "outputs": [],
   "source": [
    "from scipy.spatial import distance"
   ]
  },
  {
   "cell_type": "code",
   "execution_count": 33,
   "metadata": {},
   "outputs": [],
   "source": [
    "def hamm(P1,P2):\n",
    "    if len(P1) != len(P2):\n",
    "        print('Length mismatch')\n",
    "        return -1\n",
    "    matches=0\n",
    "    for i in range(len(P1)):\n",
    "        if P1[i]==P2[i]:\n",
    "            matches+=1\n",
    "    return matches/len(P1)"
   ]
  },
  {
   "cell_type": "code",
   "execution_count": 34,
   "metadata": {},
   "outputs": [],
   "source": [
    "# We will need to pad, for now with zeroes or 64's\n",
    "def pad(P1,P2, value=0):\n",
    "    if (len(P1)> len(P2)):\n",
    "        P2+=[value for i in range(len(P1)-len(P2)) ]\n",
    "    else:\n",
    "        P1+=[value for i in range(len(P2)-len(P1)) ]\n",
    "    return P1,P2\n"
   ]
  },
  {
   "cell_type": "code",
   "execution_count": 35,
   "metadata": {},
   "outputs": [],
   "source": [
    "# Compute similarity between original and each transform\n",
    "P1=read_file(ORIGINAL_FILE,BYTE_FILE)\n",
    "#P1_dict=P1_dictionary(P1)\n",
    "result=[]\n",
    "p=0\n",
    "for knob in l:\n",
    "    P2=read_file(TRANSFORMS_DIR+knob,BYTE_FILE)\n",
    "    P1,P2=pad(P1,P2,value=6400)\n",
    "    #dist=euclidean(P1,P2)\n",
    "    dist=hamm(P1,P2)\n",
    "    #a,b=rank_P2(P1_dict,P2,intersection=True)\n",
    "    #corr,p=spearmanr(a,b)\n",
    "    result.append((knob,dist,p))\n",
    "#print(result)"
   ]
  },
  {
   "cell_type": "code",
   "execution_count": 36,
   "metadata": {},
   "outputs": [
    {
     "data": {
      "text/plain": [
       "\"\\nCHUNK_PERC=0.3\\nP1=read_file(ORIGINAL_FILE,BYTE_FILE)\\nchunk_size=int(CHUNK_PERC*len(P1)+1)\\n\\n\\n    \\nresult=[]\\nfor knob in l:\\n\\n    suma=0\\n    i=0\\n    P2=read_file(TRANSFORMS_DIR+knob,BYTE_FILE)\\n    chunk_size2=int(CHUNK_PERC*len(P2)+1)\\n    used_chunks=[]\\n    for c_size in range(0,len(P1),chunk_size):\\n        P1_dict=P1_dictionary(P1[c_size:c_size+chunk_size])\\n        max_sim=0\\n        p=1\\n        current_chunk=-1\\n        for c_size2 in range(0,len(P2),chunk_size2):\\n            if c_size in used_chunks:\\n                continue\\n            a,b=rank_P2(P1_dict,P2[c_size2:c_size2+chunk_size2],intersection=True)\\n            corr,p=spearmanr(a,b)\\n            #print(corr)\\n            if corr > max_sim: \\n                current_chunk=c_size2\\n                max_sim=corr\\n                p=p  \\n        #print('out')\\n        used_chunks.append(current_chunk)\\n        suma=suma+max_sim\\n        i+=1\\n        \\n    result.append((knob,suma/i,'nada'))\\n    \\n#print(result)\\n\""
      ]
     },
     "execution_count": 36,
     "metadata": {},
     "output_type": "execute_result"
    }
   ],
   "source": [
    "# Compute similarity between original and each transform\n",
    "############################################Chunk version\n",
    "'''\n",
    "CHUNK_PERC=0.3\n",
    "P1=read_file(ORIGINAL_FILE,BYTE_FILE)\n",
    "chunk_size=int(CHUNK_PERC*len(P1)+1)\n",
    "\n",
    "\n",
    "    \n",
    "result=[]\n",
    "for knob in l:\n",
    "\n",
    "    suma=0\n",
    "    i=0\n",
    "    P2=read_file(TRANSFORMS_DIR+knob,BYTE_FILE)\n",
    "    chunk_size2=int(CHUNK_PERC*len(P2)+1)\n",
    "    used_chunks=[]\n",
    "    for c_size in range(0,len(P1),chunk_size):\n",
    "        P1_dict=P1_dictionary(P1[c_size:c_size+chunk_size])\n",
    "        max_sim=0\n",
    "        p=1\n",
    "        current_chunk=-1\n",
    "        for c_size2 in range(0,len(P2),chunk_size2):\n",
    "            if c_size in used_chunks:\n",
    "                continue\n",
    "            a,b=rank_P2(P1_dict,P2[c_size2:c_size2+chunk_size2],intersection=True)\n",
    "            corr,p=spearmanr(a,b)\n",
    "            #print(corr)\n",
    "            if corr > max_sim: \n",
    "                current_chunk=c_size2\n",
    "                max_sim=corr\n",
    "                p=p  \n",
    "        #print('out')\n",
    "        used_chunks.append(current_chunk)\n",
    "        suma=suma+max_sim\n",
    "        i+=1\n",
    "        \n",
    "    result.append((knob,suma/i,'nada'))\n",
    "    \n",
    "#print(result)\n",
    "'''"
   ]
  },
  {
   "cell_type": "code",
   "execution_count": 37,
   "metadata": {},
   "outputs": [
    {
     "name": "stdout",
     "output_type": "stream",
     "text": [
      "1000_0 httpd-1000_0 0.1462306910635446 25.9\n",
      "1000_1 httpd-1000_1 0.14618978299138102 25.9\n",
      "1000_2 httpd-1000_2 0.15161837120593952 22.8\n",
      "1100_0 httpd-1100_0 0.14547215095949012 25.9\n",
      "1100_1 httpd-1100_1 0.1452027669523704 25.9\n",
      "1100_2 httpd-1100_2 0.18620527583573232 16.2\n",
      "1200_0 httpd-1200_0 0.1925316656766043 10.4\n",
      "1200_1 httpd-1200_1 0.15982827313536438 20.9\n",
      "1200_2 httpd-1200_2 0.15925425454830308 13.8\n",
      "1300_0 httpd-1300_0 0.15749738340655442 23.5\n",
      "1300_1 httpd-1300_1 0.15601816492480966 26.6\n",
      "1300_2 httpd-1300_2 0.15595506204753606 26.6\n",
      "1400_0 httpd-1400_0 0.15581449494850588 17.2\n",
      "1400_1 httpd-1400_1 0.17118766142912786 14.5\n",
      "1400_2 httpd-1400_2 0.16923669454073073 14.5\n",
      "1500_0 httpd-1500_0 0.14645307430690194 25.4\n",
      "1500_1 httpd-1500_1 0.15115228029862893 21.5\n",
      "1500_2 httpd-1500_2 0.13908265824134458 32.7\n",
      "1600_0 httpd-1600_0 0.15643066869693767 14.1\n",
      "1600_1 httpd-1600_1 0.15870112518958063 14.1\n",
      "1600_2 httpd-1600_2 0.15539758076624302 22.2\n",
      "1700_0 httpd-1700_0 0.1338316284676663 32.7\n",
      "1700_1 httpd-1700_1 0.15381826806537457 24.5\n",
      "1700_2 httpd-1700_2 0.1530105512362724 24.5\n",
      "1800_0 httpd-1800_0 0.14046526404202217 32.9\n",
      "1800_1 httpd-1800_1 0.13325698782009537 32.8\n",
      "1800_2 httpd-1800_2 0.16067037015277424 12.1\n",
      "1900_0 httpd-1900_0 0.15450543663927133 22.6\n",
      "1900_1 httpd-1900_1 0.15789776028304905 13.5\n",
      "1900_2 httpd-1900_2 0.1580522535343051 13.5\n",
      "2000_0 httpd-2000_0 0.131212206272426 33.0\n",
      "2000_1 httpd-2000_1 0.14927486090167483 30.4\n",
      "2000_2 httpd-2000_2 0.13415105958434786 33.0\n",
      "500_0 httpd-500_0 0.20353376112732202 6.8\n",
      "500_1 httpd-500_1 0.2054799409008915 6.8\n",
      "500_2 httpd-500_2 0.20166112884519558 6.7\n",
      "600_0 httpd-600_0 0.3303822946382138 0.5\n",
      "600_1 httpd-600_1 0.1586510780800188 19.8\n",
      "600_2 httpd-600_2 0.15624098336042405 19.7\n",
      "700_0 httpd-700_0 0.18435962547354356 14.9\n",
      "700_1 httpd-700_1 0.18601770797293973 14.9\n",
      "700_2 httpd-700_2 0.18458984217752797 15.1\n",
      "800_0 httpd-800_0 0.19355045075038024 9.2\n",
      "800_1 httpd-800_1 0.18788511794798146 3.4\n",
      "800_2 httpd-800_2 0.1951510878718446 9.1\n",
      "900_0 httpd-900_0 0.15524221713047281 18.8\n",
      "900_1 httpd-900_1 0.19980459867658035 7.8\n",
      "900_2 httpd-900_2 0.1295915956945618 29.1\n"
     ]
    }
   ],
   "source": [
    "# Pair up the similarity with the intensity of the transform. This is very specific to the current file \n",
    "# formats. The intensity file has a fragment of the transforms file name and the intensity comma separated\n",
    "\n",
    "result=sorted(result,key=lambda x: x[0])\n",
    "with open(path+TRANSFORMATION_INTENSITY_FILE) as fp:\n",
    "    lines=fp.readlines()\n",
    "\n",
    "perc_moved=[]\n",
    "for line in lines:\n",
    "    l=line.rstrip().split(',')\n",
    "    perc_moved.append((l[0],float(l[1])))\n",
    "perc_moved=sorted(perc_moved,key=lambda x: x[0])\n",
    "###check could of sorted but I rather check\n",
    "\n",
    "simi=[]\n",
    "move=[]\n",
    "\n",
    "for sim in result:\n",
    "    for perc in perc_moved:\n",
    "        if perc[0] in sim[0]:\n",
    "            print (perc[0], sim[0],sim[1],perc[1])\n",
    "            simi.append(sim[1])\n",
    "            move.append(perc[1])\n",
    "            break\n",
    "final=zip(result,perc_moved)"
   ]
  },
  {
   "cell_type": "code",
   "execution_count": 38,
   "metadata": {},
   "outputs": [
    {
     "name": "stdout",
     "output_type": "stream",
     "text": [
      "48 48\n"
     ]
    }
   ],
   "source": [
    "print(len(move),len(simi))"
   ]
  },
  {
   "cell_type": "code",
   "execution_count": 39,
   "metadata": {},
   "outputs": [
    {
     "data": {
      "image/png": "[encoded data removed]",
      "text/plain": [
       "<Figure size 432x288 with 1 Axes>"
      ]
     },
     "metadata": {},
     "output_type": "display_data"
    }
   ],
   "source": [
    "plt.scatter(move,simi,marker='.')\n",
    "plt.ylabel('Similarity')\n",
    "plt.xlabel('Percentage Moved')\n",
    "#plt.ylim([0.75, 1])\n",
    "plt.savefig(OUTPUT_GRAPH)"
   ]
  },
  {
   "cell_type": "code",
   "execution_count": 17,
   "metadata": {},
   "outputs": [
    {
     "data": {
      "text/plain": [
       "[(25.9, 153492.72289265052),\n",
       " (25.9, 153696.48576333813),\n",
       " (22.8, 151448.3061212637),\n",
       " (25.9, 153305.50465329026),\n",
       " (25.9, 153277.72289540316),\n",
       " (16.2, 147548.73821554694),\n",
       " (10.4, 145570.4017477454),\n",
       " (20.9, 150670.6427244538),\n",
       " (13.8, 149312.34628790748),\n",
       " (23.5, 150781.4408208119),\n",
       " (26.6, 152948.91564506106),\n",
       " (26.6, 152825.51735884947),\n",
       " (17.2, 149903.52430813626),\n",
       " (14.5, 148283.59380592313),\n",
       " (14.5, 148482.30533972726),\n",
       " (25.4, 152605.23798022137),\n",
       " (21.5, 151088.1599265806),\n",
       " (32.7, 156495.5213608364),\n",
       " (14.1, 149260.56782687115),\n",
       " (14.1, 149180.28883200354),\n",
       " (22.2, 150596.20625035677),\n",
       " (32.7, 156942.35690214418),\n",
       " (24.5, 151227.99106977516),\n",
       " (24.5, 151479.11457689473),\n",
       " (32.9, 156435.77850670862),\n",
       " (32.8, 156196.79073527726),\n",
       " (12.1, 148468.1174292986),\n",
       " (22.6, 150458.71487222),\n",
       " (13.5, 149013.71498623877),\n",
       " (13.5, 148873.03925157167),\n",
       " (33.0, 156856.86533269752),\n",
       " (30.4, 154166.57644249612),\n",
       " (33.0, 156718.45759514096),\n",
       " (6.8, 144888.05534618787),\n",
       " (6.8, 144895.49559596393),\n",
       " (6.7, 145074.06372953093),\n",
       " (0.5, 135290.84911774338),\n",
       " (19.8, 151669.7211904868),\n",
       " (19.7, 152171.82387682682),\n",
       " (14.9, 148153.67291093394),\n",
       " (14.9, 148043.4565321953),\n",
       " (15.1, 147996.49447875447),\n",
       " (9.2, 145621.62835238452),\n",
       " (3.4, 144781.99227804542),\n",
       " (9.1, 145624.6694004831),\n",
       " (18.8, 150333.75461951317),\n",
       " (7.8, 144700.84270314392),\n",
       " (29.1, 156818.55899095617)]"
      ]
     },
     "execution_count": 17,
     "metadata": {},
     "output_type": "execute_result"
    }
   ],
   "source": [
    "s=zip(move,simi)\n",
    "list(s)"
   ]
  },
  {
   "cell_type": "code",
   "execution_count": 18,
   "metadata": {},
   "outputs": [
    {
     "name": "stdout",
     "output_type": "stream",
     "text": [
      "256 256 256\n"
     ]
    }
   ],
   "source": [
    "print(len(set(P1).intersection(set(P2))),len(set(P1)),len(set(P2)))"
   ]
  },
  {
   "cell_type": "code",
   "execution_count": 19,
   "metadata": {},
   "outputs": [
    {
     "name": "stdout",
     "output_type": "stream",
     "text": [
      "2297887 256 0.00011140669667394436\n"
     ]
    }
   ],
   "source": [
    "print(len(P2),len(set(P2)),len(set(P2))/len(P2))"
   ]
  },
  {
   "cell_type": "code",
   "execution_count": null,
   "metadata": {},
   "outputs": [],
   "source": [
    "##read results"
   ]
  },
  {
   "cell_type": "code",
   "execution_count": 59,
   "metadata": {},
   "outputs": [],
   "source": [
    "def read_pov_results(path,transform,result_file='results.txt'):\n",
    "    #with open('/Users/fesponda/research/Diversity/Data/transforms_to_compare/structNoc/results.txt') as fp:\n",
    "    result={}\n",
    "    with open(path+'/'+transform+'/'+result_file) as fp:\n",
    "        lines=fp.readlines()\n",
    "    for line in lines:\n",
    "        if line.find('Still vulnerable')>=0:\n",
    "            total=int(line.split()[5])\n",
    "            num=float(line.split()[3])\n",
    "            result['Still vulnerable']=(total-num)/total\n",
    "        if line.find('Showed Divergence')>=0:\n",
    "            total=int(line.split()[5])\n",
    "            num=float(line.split()[3])\n",
    "            result['Showed Divergence']=num/total\n",
    "    return (result)\n",
    "\n",
    "          "
   ]
  },
  {
   "cell_type": "code",
   "execution_count": 60,
   "metadata": {},
   "outputs": [
    {
     "data": {
      "text/plain": [
       "{'Showed Divergence': 0.2857142857142857,\n",
       " 'Still vulnerable': 0.5476190476190477}"
      ]
     },
     "execution_count": 60,
     "metadata": {},
     "output_type": "execute_result"
    }
   ],
   "source": [
    "read_pov_results('/Users/fesponda/research/Diversity/Data/transforms_to_compare','structNoc')"
   ]
  },
  {
   "cell_type": "code",
   "execution_count": 63,
   "metadata": {},
   "outputs": [],
   "source": [
    "transforms=[\n",
    "'2probBilr_probP1_probNos_probNol_probNoh_zipr+1structNoc_structP1Canaries_structNos_structNol_structNoh_zipr',\n",
    "'2structNogOF_phase1_zipr+1probNog_phase1_zipr',\n",
    "'2structNogOF_structSS_phase1_zipr+1probNog_probSS_phase1_zipr',\n",
    "'probBilr',\n",
    "'structNoc',\n",
    "'structNoc_structP1Canaries',\n",
    "'structP1Canaries',\n",
    "'probNog_probBilr']\n",
    "\n",
    "\n",
    "pov_results={}\n",
    "for transform in transforms:\n",
    "    pov_results[transform]=read_pov_results('/Users/fesponda/research/Diversity/Data/transforms_to_compare',transform)"
   ]
  },
  {
   "cell_type": "code",
   "execution_count": 64,
   "metadata": {},
   "outputs": [
    {
     "data": {
      "text/plain": [
       "{'2probBilr_probP1_probNos_probNol_probNoh_zipr+1structNoc_structP1Canaries_structNos_structNol_structNoh_zipr': {'Showed Divergence': 0.2619047619047619,\n",
       "  'Still vulnerable': 0.5714285714285714},\n",
       " '2structNogOF_phase1_zipr+1probNog_phase1_zipr': {'Showed Divergence': 0.2857142857142857,\n",
       "  'Still vulnerable': 0.7619047619047619},\n",
       " '2structNogOF_structSS_phase1_zipr+1probNog_probSS_phase1_zipr': {'Showed Divergence': 0.2619047619047619,\n",
       "  'Still vulnerable': 0.7619047619047619},\n",
       " 'probBilr': {'Showed Divergence': 0.23809523809523808,\n",
       "  'Still vulnerable': 0.5476190476190477},\n",
       " 'structNoc': {'Showed Divergence': 0.2857142857142857,\n",
       "  'Still vulnerable': 0.5476190476190477},\n",
       " 'structNoc_structP1Canaries': {'Showed Divergence': 0.2857142857142857,\n",
       "  'Still vulnerable': 0.5714285714285714},\n",
       " 'structP1Canaries': {'Showed Divergence': 0.23809523809523808,\n",
       "  'Still vulnerable': 0.5476190476190477},\n",
       " 'probNog_probBilr': {'Showed Divergence': 0.23809523809523808,\n",
       "  'Still vulnerable': 0.5476190476190477}}"
      ]
     },
     "execution_count": 64,
     "metadata": {},
     "output_type": "execute_result"
    }
   ],
   "source": [
    "pov_results"
   ]
  },
  {
   "cell_type": "code",
   "execution_count": null,
   "metadata": {},
   "outputs": [],
   "source": []
  }
 ],
 "metadata": {
  "kernelspec": {
   "display_name": "Python 3",
   "language": "python",
   "name": "python3"
  },
  "language_info": {
   "codemirror_mode": {
    "name": "ipython",
    "version": 3
   },
   "file_extension": ".py",
   "mimetype": "text/x-python",
   "name": "python",
   "nbconvert_exporter": "python",
   "pygments_lexer": "ipython3",
   "version": "3.6.5"
  }
 },
 "nbformat": 4,
 "nbformat_minor": 2
}
