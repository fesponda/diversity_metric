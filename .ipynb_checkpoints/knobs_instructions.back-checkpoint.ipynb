{
 "cells": [
  {
   "cell_type": "code",
   "execution_count": 117,
   "metadata": {},
   "outputs": [],
   "source": [
    "from scipy.stats import spearmanr, stats\n",
    "from scipy.spatial.distance import euclidean\n",
    "from random import randint, shuffle,sample,random\n",
    "from os import listdir\n",
    "from os.path import isfile, join\n",
    "import numpy as np\n",
    "import matplotlib.pyplot as plt\n",
    "% matplotlib inline\n",
    "path='/Users/fesponda/research/Diversity/Data/probNog_probBilr_randomized_2/'\n",
    "\n",
    "ORIGINAL_FILE=path+'original.txt'\n",
    "INSTRUCTIONS_DIR=path+'instructions/'"
   ]
  },
  {
   "cell_type": "code",
   "execution_count": 109,
   "metadata": {},
   "outputs": [],
   "source": [
    "##Create dictionary. For each byte in the block we create unique entry. If a byte is repeated we append if its the first, second, etc occurrence\n",
    "def P1_dictionary(P1):\n",
    "    P1_dict={}\n",
    "    P1_occ={}\n",
    "    for index,byte in enumerate(P1):   \n",
    "        if byte  in P1_occ.keys():\n",
    "            P1_occ[byte]+=1\n",
    "        else:\n",
    "            P1_occ[byte]=1\n",
    "        value=str(byte)+'_'+str(P1_occ[byte]) ## here we create a unique value for each byte in the section\n",
    "        P1_dict[value]=index+1 #we start to count at 1\n",
    "    return P1_dict"
   ]
  },
  {
   "cell_type": "code",
   "execution_count": 110,
   "metadata": {},
   "outputs": [],
   "source": [
    "####Rank instructions of a block according to first file template\n",
    "def rank_P2(P1_dict,P2,intersection=False):\n",
    "    a=[]        \n",
    "    b=[]\n",
    "    med_rank=len(P1_dict.keys())/2.0\n",
    "    P2_dict={}\n",
    "    P2_occ={}\n",
    "    for index,byte in enumerate(P2):   \n",
    "        if byte  in P2_occ.keys():\n",
    "            P2_occ[byte]+=1\n",
    "        else:\n",
    "            P2_occ[byte]=1\n",
    "        value=str(byte)+'_'+str(P2_occ[byte]) ## here we create a unique value for each byte in the section\n",
    "        if value in P1_dict.keys():\n",
    "            P2_dict[value]=P1_dict[value]\n",
    "            a.append(index+1)\n",
    "            b.append(P2_dict[value])\n",
    "        elif not intersection:\n",
    "            P2_dict[value]=0 ###zero for no existent value....check Maybe not bother, Maybe random, maybe average\n",
    "            P2_dict[value]=med_rank \n",
    "            #P2_dict[value]=randint(1,90)\n",
    "            a.append(index+1)\n",
    "            b.append(P2_dict[value])\n",
    "            \n",
    "    #print(len(a),len(b))\n",
    "    return a,b\n",
    "\n"
   ]
  },
  {
   "cell_type": "code",
   "execution_count": 142,
   "metadata": {},
   "outputs": [],
   "source": [
    "\n",
    "l = [f for f in listdir(INSTRUCTIONS_DIR) if isfile(join(INSTRUCTIONS_DIR, f)) and f[0]!='.']"
   ]
  },
  {
   "cell_type": "code",
   "execution_count": 143,
   "metadata": {},
   "outputs": [
    {
     "name": "stdout",
     "output_type": "stream",
     "text": [
      "[('1vs#3probNog_probBilr-move_globals_1700_2.txt', 0.6425181613334296, 0.0), ('1vs#3probNog_probBilr-move_globals_900_2.txt', 0.6447536239930806, 0.0), ('1vs#3probNog_probBilr-move_globals_900_0.txt', 0.6472749624488493, 0.0), ('1vs#3probNog_probBilr-move_globals_1700_0.txt', 0.644661267593388, 0.0), ('1vs#3probNog_probBilr-move_globals_1700_1.txt', 0.6360839181275314, 0.0), ('1vs#3probNog_probBilr-move_globals_900_1.txt', 0.6489246007301902, 0.0), ('1vs#3probNog_probBilr-move_globals_1600_0.txt', 0.6364623338924036, 0.0), ('1vs#3probNog_probBilr-move_globals_2000_2.txt', 0.6424869164770676, 0.0), ('1vs#3probNog_probBilr-move_globals_800_0.txt', 0.635190337258639, 0.0), ('1vs#3probNog_probBilr-move_globals_800_1.txt', 0.6560501191493844, 0.0), ('1vs#3probNog_probBilr-move_globals_1600_1.txt', 0.6327503513354283, 0.0), ('1vs#3probNog_probBilr-move_globals_2000_1.txt', 0.6419930895669107, 0.0), ('1vs#3probNog_probBilr-move_globals_800_2.txt', 0.6416540450333394, 0.0), ('1vs#3probNog_probBilr-move_globals_2000_0.txt', 0.6462483981100345, 0.0), ('1vs#3probNog_probBilr-move_globals_1600_2.txt', 0.6373141339832958, 0.0), ('1vs#3probNog_probBilr-move_globals_1400_0.txt', 0.6416806191505026, 0.0), ('1vs#3probNog_probBilr-move_globals_1400_1.txt', 0.6481636075582261, 0.0), ('1vs#3probNog_probBilr-move_globals_1400_2.txt', 0.6535636979138503, 0.0), ('1vs#3probNog_probBilr-move_globals_1500_2.txt', 0.6405519372141224, 0.0), ('1vs#3probNog_probBilr-move_globals_1500_0.txt', 0.6387456871119919, 0.0), ('1vs#3probNog_probBilr-move_globals_1500_1.txt', 0.6406204501915332, 0.0), ('1vs#3probNog_probBilr-move_globals_1900_2.txt', 0.6340320135426984, 0.0), ('1vs#3probNog_probBilr-move_globals_700_2.txt', 0.641787294654792, 0.0), ('1vs#3probNog_probBilr-move_globals_1000_1.txt', 0.6372480830008207, 0.0), ('1vs#3probNog_probBilr-move_globals_1000_0.txt', 0.6437380342961249, 0.0), ('1vs#3probNog_probBilr-move_globals_1900_1.txt', 0.6440360536291718, 0.0), ('1vs#3probNog_probBilr-move_globals_700_1.txt', 0.6550491312357303, 0.0), ('1vs#3probNog_probBilr-move_globals_1000_2.txt', 0.6442307308173398, 0.0), ('1vs#3probNog_probBilr-move_globals_700_0.txt', 0.6517630833679272, 0.0), ('1vs#3probNog_probBilr-move_globals_1900_0.txt', 0.6454550721561885, 0.0), ('1vs#3probNog_probBilr-move_globals_600_1.txt', 0.6530603588064084, 0.0), ('1vs#3probNog_probBilr-move_globals_1800_1.txt', 0.6395114266444129, 0.0), ('1vs#3probNog_probBilr-move_globals_1100_2.txt', 0.6441610785454809, 0.0), ('1vs#3probNog_probBilr-move_globals_1800_0.txt', 0.6430173733708227, 0.0), ('1vs#3probNog_probBilr-move_globals_600_0.txt', 0.6568760373898583, 0.0), ('1vs#3probNog_probBilr-move_globals_600_2.txt', 0.6378681441238186, 0.0), ('1vs#3probNog_probBilr-move_globals_1800_2.txt', 0.636940345393861, 0.0), ('1vs#3probNog_probBilr-move_globals_1100_1.txt', 0.6365122446606043, 0.0), ('1vs#3probNog_probBilr-move_globals_1100_0.txt', 0.6382089182459624, 0.0), ('1vs#3probNog_probBilr-move_globals_1300_2.txt', 0.6400377310037935, 0.0), ('1vs#3probNog_probBilr-move_globals_1300_1.txt', 0.6460314898856883, 0.0), ('1vs#3probNog_probBilr-move_globals_1300_0.txt', 0.6365302328419806, 0.0), ('1vs#3probNog_probBilr-move_globals_1200_1.txt', 0.6385014830279904, 0.0), ('1vs#3probNog_probBilr-move_globals_500_2.txt', 0.634404807518974, 0.0), ('1vs#3probNog_probBilr-move_globals_1200_0.txt', 0.6384100281888587, 0.0), ('1vs#3probNog_probBilr-move_globals_1200_2.txt', 0.6433276309273577, 0.0), ('1vs#3probNog_probBilr-move_globals_500_1.txt', 0.6485320577673132, 0.0), ('1vs#3probNog_probBilr-move_globals_500_0.txt', 0.6493914519022504, 0.0)]\n"
     ]
    }
   ],
   "source": [
    "\n",
    "P1=read_instructions(ORIGINAL_FILE)\n",
    "P1_dict=P1_dictionary(P1)\n",
    "result=[]\n",
    "for knob in l:\n",
    "    P2=read_instructions(INSTRUCTIONS_DIR+knob)\n",
    "    a,b=rank_P2(P1_dict,P2,intersection=True)\n",
    "    corr,p=spearmanr(a,b)\n",
    "    result.append((knob,corr,p))\n",
    "print(result)"
   ]
  },
  {
   "cell_type": "code",
   "execution_count": 144,
   "metadata": {},
   "outputs": [
    {
     "name": "stdout",
     "output_type": "stream",
     "text": [
      "1000_0 1vs#3probNog_probBilr-move_globals_1000_0.txt\n",
      "1000_1 1vs#3probNog_probBilr-move_globals_1000_1.txt\n",
      "1000_2 1vs#3probNog_probBilr-move_globals_1000_2.txt\n",
      "1100_0 1vs#3probNog_probBilr-move_globals_1100_0.txt\n",
      "1100_1 1vs#3probNog_probBilr-move_globals_1100_1.txt\n",
      "1100_2 1vs#3probNog_probBilr-move_globals_1100_2.txt\n",
      "1200_0 1vs#3probNog_probBilr-move_globals_1200_0.txt\n",
      "1200_1 1vs#3probNog_probBilr-move_globals_1200_1.txt\n",
      "1200_2 1vs#3probNog_probBilr-move_globals_1200_2.txt\n",
      "1300_0 1vs#3probNog_probBilr-move_globals_1300_0.txt\n",
      "1300_1 1vs#3probNog_probBilr-move_globals_1300_1.txt\n",
      "1300_2 1vs#3probNog_probBilr-move_globals_1300_2.txt\n",
      "1400_0 1vs#3probNog_probBilr-move_globals_1400_0.txt\n",
      "1400_1 1vs#3probNog_probBilr-move_globals_1400_1.txt\n",
      "1400_2 1vs#3probNog_probBilr-move_globals_1400_2.txt\n",
      "1500_0 1vs#3probNog_probBilr-move_globals_1500_0.txt\n",
      "1500_1 1vs#3probNog_probBilr-move_globals_1500_1.txt\n",
      "1500_2 1vs#3probNog_probBilr-move_globals_1500_2.txt\n",
      "1600_0 1vs#3probNog_probBilr-move_globals_1600_0.txt\n",
      "1600_1 1vs#3probNog_probBilr-move_globals_1600_1.txt\n",
      "1600_2 1vs#3probNog_probBilr-move_globals_1600_2.txt\n",
      "1700_0 1vs#3probNog_probBilr-move_globals_1700_0.txt\n",
      "1700_1 1vs#3probNog_probBilr-move_globals_1700_1.txt\n",
      "1700_2 1vs#3probNog_probBilr-move_globals_1700_2.txt\n",
      "1800_0 1vs#3probNog_probBilr-move_globals_1800_0.txt\n",
      "1800_1 1vs#3probNog_probBilr-move_globals_1800_1.txt\n",
      "1800_2 1vs#3probNog_probBilr-move_globals_1800_2.txt\n",
      "1900_0 1vs#3probNog_probBilr-move_globals_1900_0.txt\n",
      "1900_1 1vs#3probNog_probBilr-move_globals_1900_1.txt\n",
      "1900_2 1vs#3probNog_probBilr-move_globals_1900_2.txt\n",
      "2000_0 1vs#3probNog_probBilr-move_globals_2000_0.txt\n",
      "2000_1 1vs#3probNog_probBilr-move_globals_2000_1.txt\n",
      "2000_2 1vs#3probNog_probBilr-move_globals_2000_2.txt\n",
      "500_0 1vs#3probNog_probBilr-move_globals_500_0.txt\n",
      "500_1 1vs#3probNog_probBilr-move_globals_500_1.txt\n",
      "500_2 1vs#3probNog_probBilr-move_globals_500_2.txt\n",
      "600_0 1vs#3probNog_probBilr-move_globals_600_0.txt\n",
      "600_1 1vs#3probNog_probBilr-move_globals_600_1.txt\n",
      "600_2 1vs#3probNog_probBilr-move_globals_600_2.txt\n",
      "700_0 1vs#3probNog_probBilr-move_globals_700_0.txt\n",
      "700_1 1vs#3probNog_probBilr-move_globals_700_1.txt\n",
      "700_2 1vs#3probNog_probBilr-move_globals_700_2.txt\n",
      "800_0 1vs#3probNog_probBilr-move_globals_800_0.txt\n",
      "800_1 1vs#3probNog_probBilr-move_globals_800_1.txt\n",
      "800_2 1vs#3probNog_probBilr-move_globals_800_2.txt\n",
      "900_0 1vs#3probNog_probBilr-move_globals_900_0.txt\n",
      "900_1 1vs#3probNog_probBilr-move_globals_900_1.txt\n",
      "900_2 1vs#3probNog_probBilr-move_globals_900_2.txt\n"
     ]
    }
   ],
   "source": [
    "TRANSFORMATION_INTENSITY_FILE='percent_items_moved'\n",
    "\n",
    "result=sorted(result,key=lambda x: x[0])\n",
    "with open(path+TRANSFORMATION_INTENSITY_FILE) as fp:\n",
    "    lines=fp.readlines()\n",
    "\n",
    "perc_moved=[]\n",
    "for line in lines:\n",
    "    l=line.rstrip().split(',')\n",
    "    perc_moved.append((l[0],float(l[1])))\n",
    "perc_moved=sorted(perc_moved,key=lambda x: x[0])\n",
    "###check could of sorted but I rather check\n",
    "\n",
    "simi=[]\n",
    "move=[]\n",
    "\n",
    "for sim in result:\n",
    "    for perc in perc_moved:\n",
    "        if perc[0] in sim[0]:\n",
    "            print (perc[0], sim[0])\n",
    "            simi.append(sim[1])\n",
    "            move.append(perc[1])\n",
    "            break\n",
    "final=zip(result,perc_moved)"
   ]
  },
  {
   "cell_type": "code",
   "execution_count": 140,
   "metadata": {},
   "outputs": [
    {
     "name": "stdout",
     "output_type": "stream",
     "text": [
      "0 0\n"
     ]
    }
   ],
   "source": [
    "print(len(move),len(simi))"
   ]
  },
  {
   "cell_type": "code",
   "execution_count": 145,
   "metadata": {},
   "outputs": [
    {
     "data": {
      "image/png": "[encoded data removed]",
      "text/plain": [
       "<Figure size 432x288 with 1 Axes>"
      ]
     },
     "metadata": {},
     "output_type": "display_data"
    }
   ],
   "source": [
    "plt.scatter(move,simi,marker='.')\n",
    "plt.ylabel('Similarity')\n",
    "plt.xlabel('Percentage Moved')\n",
    "\n",
    "plt.savefig('probNog_probBilr_randomized_2.pdf')"
   ]
  },
  {
   "cell_type": "code",
   "execution_count": null,
   "metadata": {},
   "outputs": [],
   "source": []
  },
  {
   "cell_type": "code",
   "execution_count": 132,
   "metadata": {},
   "outputs": [],
   "source": [
    "s=zip(move,simi)"
   ]
  },
  {
   "cell_type": "code",
   "execution_count": 133,
   "metadata": {},
   "outputs": [
    {
     "data": {
      "text/plain": [
       "[(25.9, 0.6437380342961249),\n",
       " (25.9, 0.6372480830008207),\n",
       " (22.8, 0.6442307308173398),\n",
       " (25.9, 0.6382089182459624),\n",
       " (25.9, 0.6365122446606043),\n",
       " (16.2, 0.6441610785454809),\n",
       " (10.4, 0.6384100281888587),\n",
       " (20.9, 0.6385014830279904),\n",
       " (13.8, 0.6433276309273577),\n",
       " (23.5, 0.6365302328419806),\n",
       " (26.6, 0.6460314898856883),\n",
       " (26.6, 0.6400377310037935),\n",
       " (17.2, 0.6416806191505026),\n",
       " (14.5, 0.6481636075582261),\n",
       " (14.5, 0.6535636979138503),\n",
       " (25.4, 0.6387456871119919),\n",
       " (21.5, 0.6406204501915332),\n",
       " (32.7, 0.6405519372141224),\n",
       " (14.1, 0.6364623338924036),\n",
       " (14.1, 0.6327503513354283),\n",
       " (22.2, 0.6373141339832958),\n",
       " (32.7, 0.644661267593388),\n",
       " (24.5, 0.6360839181275314),\n",
       " (24.5, 0.6425181613334296),\n",
       " (32.9, 0.6430173733708227),\n",
       " (32.8, 0.6395114266444129),\n",
       " (12.1, 0.636940345393861),\n",
       " (22.6, 0.6454550721561885),\n",
       " (13.5, 0.6440360536291718),\n",
       " (13.5, 0.6340320135426984),\n",
       " (33.0, 0.6462483981100345),\n",
       " (30.4, 0.6419930895669107),\n",
       " (33.0, 0.6424869164770676),\n",
       " (6.8, 0.6493914519022504),\n",
       " (6.8, 0.6485320577673132),\n",
       " (6.7, 0.634404807518974),\n",
       " (0.5, 0.6568760373898583),\n",
       " (19.8, 0.6530603588064084),\n",
       " (19.7, 0.6378681441238186),\n",
       " (14.9, 0.6517630833679272),\n",
       " (14.9, 0.6550491312357303),\n",
       " (15.1, 0.641787294654792),\n",
       " (9.2, 0.635190337258639),\n",
       " (3.4, 0.6560501191493844),\n",
       " (9.1, 0.6416540450333394),\n",
       " (18.8, 0.6472749624488493),\n",
       " (7.8, 0.6489246007301902),\n",
       " (29.1, 0.6447536239930806)]"
      ]
     },
     "execution_count": 133,
     "metadata": {},
     "output_type": "execute_result"
    }
   ],
   "source": [
    "list(s)"
   ]
  },
  {
   "cell_type": "code",
   "execution_count": null,
   "metadata": {},
   "outputs": [],
   "source": []
  }
 ],
 "metadata": {
  "kernelspec": {
   "display_name": "Python 3",
   "language": "python",
   "name": "python3"
  },
  "language_info": {
   "codemirror_mode": {
    "name": "ipython",
    "version": 3
   },
   "file_extension": ".py",
   "mimetype": "text/x-python",
   "name": "python",
   "nbconvert_exporter": "python",
   "pygments_lexer": "ipython3",
   "version": "3.6.5"
  }
 },
 "nbformat": 4,
 "nbformat_minor": 2
}
