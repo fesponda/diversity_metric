{
 "cells": [
  {
   "cell_type": "code",
   "execution_count": 25,
   "metadata": {},
   "outputs": [],
   "source": [
    "import tweepy\n",
    "from tweepy import OAuthHandler\n",
    "import time"
   ]
  },
  {
   "cell_type": "markdown",
   "metadata": {},
   "source": [
    "1. Instalar tweepy\n",
    "2. Tener una cuenta de Twitter\n",
    "3. Meterte a http://apps.twitter.com y registrar una aplicación\n",
    "4. Obtener llaves y secretos de consumur y de access (por ahi una ves que registras la aplicacion. Ya con esto puedes conectarte y hacer muuuchas cosas (ven la documentación de Tweepy).\n",
    "\n",
    "A continuación es un ejemplo nada mas para crear un pequeño grafo de amigos de twitter"
   ]
  },
  {
   "cell_type": "code",
   "execution_count": 26,
   "metadata": {},
   "outputs": [],
   "source": [
    "\n",
    " \n",
    "consumer_key = 'dws4njvzeyJXteA0VI81VNFBZ'\n",
    "consumer_secret = 'gS0TB62fD3T2r3egc4IKpsf0n2h7gBCUEEjmOHJzKtMHcqHy70'\n",
    "access_token = '15324062-JIk01PT6fByKBa5VqAFbZ1AWRHJACZtnsd6lJaEWq'\n",
    "access_secret = 'jf0BVaqjEQkzRD4bESrl9U1JP1aGJOd0fudepwz4n7XRr'\n",
    " \n",
    "auth = OAuthHandler(consumer_key, consumer_secret)\n",
    "auth.set_access_token(access_token, access_secret)\n",
    " \n",
    "api = tweepy.API(auth, wait_on_rate_limit=True)"
   ]
  },
  {
   "cell_type": "code",
   "execution_count": 27,
   "metadata": {},
   "outputs": [],
   "source": [
    "# Este funcion toma un screen_name de Twitter y te regresa una lista de aristas que van de ese screen\n",
    "# name a sus seguidores\n",
    "def get_amigos(amigo):\n",
    "    edges=[]\n",
    "    ids = []\n",
    "    #Lo siguiente esta en un try catch porque hay usuarios que no dan permiso de hacerles algunos\n",
    "    #queries, asi que si falla el Cursor no pasa nada, sigue adelante\n",
    "    try:\n",
    "    # En realidad este for solo se ejecuta una vez porque le puse pages(1). Sin el 1 se trae\n",
    "    # a todos los followers y en algunos casos son muchos. El Cursor lo pagina. En ese caso se \n",
    "    # necesita poner el sleep que hace que la aplicacion ese espere en pedir tweets y no exceda las\n",
    "    #restricciones de Twitter\n",
    "        for page in tweepy.Cursor(api.followers_ids, screen_name=amigo).pages(1):\n",
    "            ids.extend(page)\n",
    "            time.sleep(60)\n",
    "        #Igual para este ejemplo solo voy a usar los primeros diez seguidores, para que no se tarde\n",
    "        # La linea de abajo convierte los ids que me traje a screen_names (solo 10). Si lo dejas libre \n",
    "        # tambien aqui puedes violar el limite de consultas que te permite twitter. \n",
    "        screen_names = [user.screen_name for user in api.lookup_users(user_ids=ids[0:10])]\n",
    "        edges+=[(amigo,otro) for otro in screen_names]\n",
    "    except:\n",
    "        print(amigo,' no quiere')\n",
    "    return (edges)"
   ]
  },
  {
   "cell_type": "code",
   "execution_count": 28,
   "metadata": {},
   "outputs": [
    {
     "name": "stdout",
     "output_type": "stream",
     "text": [
      "[('fesponda69', 'coriasergio'), ('fesponda69', 'ilan2884'), ('fesponda69', 'ionekr'), ('fesponda69', 'ian_castill0'), ('fesponda69', 'isragaytan'), ('fesponda69', 'Carlitobythebay'), ('fesponda69', 'trollingdata'), ('fesponda69', 'ElMoodyClub'), ('fesponda69', 'asilberman'), ('fesponda69', 'verenagama')]\n",
      "coriasergio\n",
      "ilan2884\n",
      "ionekr\n",
      "ian_castill0\n",
      "isragaytan\n",
      "Carlitobythebay\n",
      "trollingdata\n",
      "trollingdata  no quiere\n",
      "ElMoodyClub\n",
      "asilberman\n",
      "verenagama\n"
     ]
    }
   ],
   "source": [
    "# Hago un grafo de dos niveles: nodo inicial, sus amigos (10 max) y los 10 amigos de sus amigos\n",
    "nivel1=get_amigos(user.screen_name)\n",
    "nivel2=[]\n",
    "for v1,v2 in nivel1:\n",
    "    nivel2+=get_amigos(v2)\n",
    "edges=nivel1+nivel2"
   ]
  },
  {
   "cell_type": "code",
   "execution_count": 29,
   "metadata": {},
   "outputs": [
    {
     "name": "stdout",
     "output_type": "stream",
     "text": [
      "[('fesponda69', 'coriasergio'), ('fesponda69', 'ilan2884'), ('fesponda69', 'ionekr'), ('fesponda69', 'ian_castill0'), ('fesponda69', 'isragaytan'), ('fesponda69', 'Carlitobythebay'), ('fesponda69', 'trollingdata'), ('fesponda69', 'ElMoodyClub'), ('fesponda69', 'asilberman'), ('fesponda69', 'verenagama'), ('coriasergio', 'mautre'), ('coriasergio', 'oscarsimex'), ('coriasergio', 'tecnologialyt'), ('coriasergio', 'VillodreJulian'), ('coriasergio', 'DRAKERS46'), ('coriasergio', 'villanueva20031'), ('coriasergio', 'TlatelolcoPuede'), ('coriasergio', 'NOTICHUIRER'), ('coriasergio', 'jdeter14'), ('coriasergio', 'flaviojuarezz'), ('ilan2884', 'AnalyticsJamie'), ('ilan2884', 'ENTORNOi'), ('ilan2884', 'cernabajanorte'), ('ilan2884', 'cistron84'), ('ilan2884', 'BrendaAldana'), ('ilan2884', 'TheSmartJokes'), ('ilan2884', 'EscupoLetras_'), ('ilan2884', 'jorandradefig'), ('ilan2884', 'blog_SLR'), ('ilan2884', 'LittleMissData'), ('ionekr', 'asierarranz'), ('ionekr', 'christian_lumm'), ('ionekr', 'mrdevlar'), ('ionekr', 'tippilab'), ('ionekr', 'MarvelOfRogers'), ('ionekr', 'COSMOS_MCN'), ('ionekr', 'MiriKrupkin'), ('ionekr', 'Scobleizer'), ('ionekr', 'ronnieclark__'), ('ionekr', 'Abufouda'), ('ian_castill0', 'DoopEventsCom'), ('ian_castill0', 'AlcantaraSamu'), ('ian_castill0', 'course_hour'), ('ian_castill0', 'DKareliya'), ('ian_castill0', 'bajozocalo'), ('ian_castill0', 'EvePrinz'), ('ian_castill0', 'karivd'), ('ian_castill0', 'debashis_dutta'), ('ian_castill0', 'ConectaR2019'), ('ian_castill0', 'irrational_fred'), ('isragaytan', 'Desencripta_ES'), ('isragaytan', 'devs4j'), ('isragaytan', 'CodigoTrading'), ('isragaytan', 'Cripto_nautas'), ('isragaytan', 'RyanJonesLux'), ('isragaytan', 'phalpern'), ('isragaytan', 'supplychain123'), ('isragaytan', 'gigihb'), ('isragaytan', 'SocialChorus'), ('isragaytan', 'SupplyChainBlog'), ('Carlitobythebay', 'FreTronic'), ('Carlitobythebay', 'MichaelMoussou'), ('Carlitobythebay', '_ProductDesign'), ('Carlitobythebay', 'ljlarran'), ('Carlitobythebay', 'EmilyPappas_'), ('Carlitobythebay', 'yfcpe'), ('Carlitobythebay', 'annemariayritys'), ('Carlitobythebay', 'VillaPineapple'), ('Carlitobythebay', 'gmaciasg'), ('Carlitobythebay', 'ShirleyValmond'), ('ElMoodyClub', 'asilberman'), ('asilberman', 'reyesteran'), ('asilberman', 'RafaelCuervoS'), ('asilberman', 'gallegosji'), ('asilberman', 'EnoExpress'), ('asilberman', 'OmarVives'), ('asilberman', 'ursenthilmca'), ('asilberman', 'borelemus'), ('asilberman', 'Hnandrah'), ('asilberman', 'claudiosilb'), ('asilberman', 'cfacisr'), ('verenagama', 'InnovacionLat'), ('verenagama', 'JoeLeonJr'), ('verenagama', 'OsFons'), ('verenagama', 'mobileUXLondon'), ('verenagama', '_martinkennedy'), ('verenagama', 'rowemore'), ('verenagama', 'NigelEastham1'), ('verenagama', 'IvoneNoveron'), ('verenagama', 'RedDolan'), ('verenagama', 'marianosaldias')]\n"
     ]
    }
   ],
   "source": [
    "print(edges)"
   ]
  },
  {
   "cell_type": "code",
   "execution_count": null,
   "metadata": {},
   "outputs": [],
   "source": []
  }
 ],
 "metadata": {
  "kernelspec": {
   "display_name": "Python 3",
   "language": "python",
   "name": "python3"
  },
  "language_info": {
   "codemirror_mode": {
    "name": "ipython",
    "version": 3
   },
   "file_extension": ".py",
   "mimetype": "text/x-python",
   "name": "python",
   "nbconvert_exporter": "python",
   "pygments_lexer": "ipython3",
   "version": "3.6.5"
  }
 },
 "nbformat": 4,
 "nbformat_minor": 2
}
