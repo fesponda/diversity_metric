{
 "cells": [
  {
   "cell_type": "code",
   "execution_count": 94,
   "metadata": {},
   "outputs": [],
   "source": [
    "from scipy.stats import spearmanr, stats\n",
    "from scipy.spatial.distance import euclidean\n",
    "from random import randint, shuffle,sample,random\n",
    "import numpy as np\n",
    "import matplotlib.pyplot as plt\n",
    "% matplotlib inline\n",
    "path='/Users/fesponda/research/Diversity/Data/knob_variants/'"
   ]
  },
  {
   "cell_type": "code",
   "execution_count": 95,
   "metadata": {},
   "outputs": [],
   "source": [
    "def read_ELF(file1):\n",
    "    with open(file1, 'rb') as f:\n",
    "        P1=list(f.read())\n",
    "    return P1\n",
    "\n"
   ]
  },
  {
   "cell_type": "code",
   "execution_count": 96,
   "metadata": {},
   "outputs": [],
   "source": [
    "##Create dictionary. For each byte in the block we create unique entry. If a byte is repeated we append if its the first, second, etc occurrence\n",
    "def P1_dictionary(P1):\n",
    "    P1_dict={}\n",
    "    P1_occ={}\n",
    "    for index,byte in enumerate(P1):   \n",
    "        if byte  in P1_occ.keys():\n",
    "            P1_occ[byte]+=1\n",
    "        else:\n",
    "            P1_occ[byte]=1\n",
    "        value=str(byte)+'_'+str(P1_occ[byte]) ## here we create a unique value for each byte in the section\n",
    "        P1_dict[value]=index+1 #we start to count at 1\n",
    "    return P1_dict"
   ]
  },
  {
   "cell_type": "code",
   "execution_count": 97,
   "metadata": {},
   "outputs": [],
   "source": [
    "####Rank instructions of a block according to first file template\n",
    "def rank_P2(P1_dict,P2,intersection=False):\n",
    "    a=[]        \n",
    "    b=[]\n",
    "    med_rank=len(P1_dict.keys())/2.0\n",
    "    P2_dict={}\n",
    "    P2_occ={}\n",
    "    for index,byte in enumerate(P2):   \n",
    "        if byte  in P2_occ.keys():\n",
    "            P2_occ[byte]+=1\n",
    "        else:\n",
    "            P2_occ[byte]=1\n",
    "        value=str(byte)+'_'+str(P2_occ[byte]) ## here we create a unique value for each byte in the section\n",
    "        if value in P1_dict.keys():\n",
    "            P2_dict[value]=P1_dict[value]\n",
    "            a.append(index+1)\n",
    "            b.append(P2_dict[value])\n",
    "        elif not intersection:\n",
    "            P2_dict[value]=0 ###zero for no existent value....check Maybe not bother, Maybe random, maybe average\n",
    "            P2_dict[value]=med_rank \n",
    "            #P2_dict[value]=randint(1,90)\n",
    "            a.append(index+1)\n",
    "            b.append(P2_dict[value])\n",
    "            \n",
    "    #print(len(a),len(b))\n",
    "    return a,b\n",
    "\n"
   ]
  },
  {
   "cell_type": "code",
   "execution_count": 98,
   "metadata": {},
   "outputs": [
    {
     "name": "stdout",
     "output_type": "stream",
     "text": [
      "[('httpd-1925_0', 0.9336091183973427, 0.0), ('httpd-1927_1', 0.8983847958810104, 0.0), ('httpd-1929_2', 0.8313383919815067, 0.0), ('httpd-1932_0', 0.7683185939125379, 0.0), ('httpd-1934_1', 0.7694922873323496, 0.0), ('httpd-1925_1', 0.9327057183167075, 0.0), ('httpd-1927_2', 0.8966070766371479, 0.0), ('httpd-1930_0', 0.8316389502537733, 0.0), ('httpd-1932_1', 0.7710461713086953, 0.0), ('httpd-1934_2', 0.7701245219065196, 0.0), ('httpd-1925_2', 0.9337927204221603, 0.0), ('httpd-1928_0', 0.8344077538099418, 0.0), ('httpd-1930_1', 0.8320700338912457, 0.0), ('httpd-1932_2', 0.769950794041422, 0.0), ('httpd-1935_0', 0.7701433855438038, 0.0), ('httpd-1926_0', 0.931511078131848, 0.0), ('httpd-1928_1', 0.8346750248695907, 0.0), ('httpd-1930_2', 0.8315444974890637, 0.0), ('httpd-1933_0', 0.770099794476479, 0.0), ('httpd-1935_1', 0.7701981438236282, 0.0), ('httpd-1926_1', 0.9285524779297402, 0.0), ('httpd-1928_2', 0.8341327520998131, 0.0), ('httpd-1931_0', 0.7854503238267141, 0.0), ('httpd-1933_1', 0.7682257880918709, 0.0), ('httpd-1935_2', 0.7705643564165783, 0.0), ('httpd-1926_2', 0.9288475717162411, 0.0), ('httpd-1929_0', 0.8311823373865933, 0.0), ('httpd-1931_1', 0.7849157397222702, 0.0), ('httpd-1933_2', 0.7688469710011858, 0.0), ('httpd-1927_0', 0.8976328338267677, 0.0), ('httpd-1929_1', 0.830957024016413, 0.0), ('httpd-1931_2', 0.7854699674009511, 0.0), ('httpd-1934_0', 0.7688674310554464, 0.0)]\n"
     ]
    }
   ],
   "source": [
    "l=[\n",
    "'httpd-1925_0',\t'httpd-1927_1',\t'httpd-1929_2',\t'httpd-1932_0',\t'httpd-1934_1',\n",
    "'httpd-1925_1',\t'httpd-1927_2',\t'httpd-1930_0',\t'httpd-1932_1',\t'httpd-1934_2',\n",
    "'httpd-1925_2',\t'httpd-1928_0',\t'httpd-1930_1',\t'httpd-1932_2',\t'httpd-1935_0',\n",
    "'httpd-1926_0',\t'httpd-1928_1',\t'httpd-1930_2',\t'httpd-1933_0',\t'httpd-1935_1',\n",
    "'httpd-1926_1',\t'httpd-1928_2',\t'httpd-1931_0',\t'httpd-1933_1',\t'httpd-1935_2',\n",
    "'httpd-1926_2',\t'httpd-1929_0',\t'httpd-1931_1',\t'httpd-1933_2',\n",
    "'httpd-1927_0',\t'httpd-1929_1',\t'httpd-1931_2',\t'httpd-1934_0']   \n",
    "P1=read_ELF(path+'httpd-kudu-canonical_original')\n",
    "P1_dict=P1_dictionary(P1)\n",
    "result=[]\n",
    "for knob in l:\n",
    "    P2=read_ELF(path+knob)\n",
    "    a,b=rank_P2(P1_dict,P2,intersection=True)\n",
    "    corr,p=spearmanr(a,b)\n",
    "    result.append((knob,corr,p))\n",
    "print(result)"
   ]
  },
  {
   "cell_type": "code",
   "execution_count": 107,
   "metadata": {},
   "outputs": [],
   "source": [
    "result=sorted(result,key=lambda x: x[0])\n",
    "with open(path+'percent_moved') as fp:\n",
    "    lines=fp.readlines()\n",
    "\n",
    "perc_moved=[]\n",
    "for line in lines:\n",
    "    l=line.rstrip().split(',')\n",
    "    perc_moved.append((l[0],float(l[1])))\n",
    "\n",
    "perc_moved=sorted(perc_moved,key=lambda x: x[0])\n",
    "###check could of zipped but I rather check\n",
    "simi=[]\n",
    "move=[]\n",
    "for sim,perc in zip(result,perc_moved):\n",
    "    if perc[0] not in sim[0]:\n",
    "        print ('Percentage_moved file doesnt match correlation file')\n",
    "        break\n",
    "    simi.append(sim[1])\n",
    "    move.append(perc[1])\n",
    "    \n",
    "final=zip(result,perc_moved)"
   ]
  },
  {
   "cell_type": "code",
   "execution_count": 127,
   "metadata": {},
   "outputs": [
    {
     "data": {
      "text/plain": [
       "Text(0.5,0,'Percentage Moved')"
      ]
     },
     "execution_count": 127,
     "metadata": {},
     "output_type": "execute_result"
    },
    {
     "data": {
      "image/png": "[encoded data removed]",
      "text/plain": [
       "<Figure size 432x288 with 1 Axes>"
      ]
     },
     "metadata": {},
     "output_type": "display_data"
    }
   ],
   "source": [
    "plt.scatter(move,simi,marker='.')\n",
    "plt.ylabel('Similarity')\n",
    "plt.xlabel('Percentage Moved')\n",
    "\n",
    "#plt.savefig('permutationDiversity.pdf')"
   ]
  },
  {
   "cell_type": "code",
   "execution_count": 103,
   "metadata": {},
   "outputs": [
    {
     "name": "stdout",
     "output_type": "stream",
     "text": [
      "[(('httpd-1925_0', 0.9336091183973427, 0.0), ('1925_0', 1.6)), (('httpd-1925_1', 0.9327057183167075, 0.0), ('1925_1', 1.6)), (('httpd-1925_2', 0.9337927204221603, 0.0), ('1925_2', 1.6)), (('httpd-1926_0', 0.931511078131848, 0.0), ('1926_0', 4.3)), (('httpd-1926_1', 0.9285524779297402, 0.0), ('1926_1', 4.3)), (('httpd-1926_2', 0.9288475717162411, 0.0), ('1926_2', 4.3)), (('httpd-1927_0', 0.8976328338267677, 0.0), ('1927_0', 14.6)), (('httpd-1927_1', 0.8983847958810104, 0.0), ('1927_1', 14.6)), (('httpd-1927_2', 0.8966070766371479, 0.0), ('1927_2', 14.6)), (('httpd-1928_0', 0.8344077538099418, 0.0), ('1928_0', 20.8)), (('httpd-1928_1', 0.8346750248695907, 0.0), ('1928_1', 20.8)), (('httpd-1928_2', 0.8341327520998131, 0.0), ('1928_2', 20.8)), (('httpd-1929_0', 0.8311823373865933, 0.0), ('1929_0', 21.6)), (('httpd-1929_1', 0.830957024016413, 0.0), ('1929_1', 21.6)), (('httpd-1929_2', 0.8313383919815067, 0.0), ('1929_2', 21.6)), (('httpd-1930_0', 0.8316389502537733, 0.0), ('1930_0', 21.7)), (('httpd-1930_1', 0.8320700338912457, 0.0), ('1930_1', 21.7)), (('httpd-1930_2', 0.8315444974890637, 0.0), ('1930_2', 21.7)), (('httpd-1931_0', 0.7854503238267141, 0.0), ('1931_0', 29.8)), (('httpd-1931_1', 0.7849157397222702, 0.0), ('1931_1', 29.8)), (('httpd-1931_2', 0.7854699674009511, 0.0), ('1931_2', 29.8)), (('httpd-1932_0', 0.7683185939125379, 0.0), ('1932_0', 32.1)), (('httpd-1932_1', 0.7710461713086953, 0.0), ('1932_1', 32.0)), (('httpd-1932_2', 0.769950794041422, 0.0), ('1932_2', 32.0)), (('httpd-1933_0', 0.770099794476479, 0.0), ('1933_0', 32.1)), (('httpd-1933_1', 0.7682257880918709, 0.0), ('1933_1', 32.0)), (('httpd-1933_2', 0.7688469710011858, 0.0), ('1933_2', 32.0)), (('httpd-1934_0', 0.7688674310554464, 0.0), ('1934_0', 32.1)), (('httpd-1934_1', 0.7694922873323496, 0.0), ('1934_1', 32.0)), (('httpd-1934_2', 0.7701245219065196, 0.0), ('1934_2', 32.0)), (('httpd-1935_0', 0.7701433855438038, 0.0), ('1935_0', 32.0)), (('httpd-1935_1', 0.7701981438236282, 0.0), ('1935_1', 32.0)), (('httpd-1935_2', 0.7705643564165783, 0.0), ('1935_2', 32.0))]\n"
     ]
    }
   ],
   "source": [
    "print(list(final))"
   ]
  },
  {
   "cell_type": "code",
   "execution_count": 104,
   "metadata": {},
   "outputs": [
    {
     "name": "stdout",
     "output_type": "stream",
     "text": [
      "[(1.6, 0.9336091183973427), (1.6, 0.9327057183167075), (1.6, 0.9337927204221603), (4.3, 0.931511078131848), (4.3, 0.9285524779297402), (4.3, 0.9288475717162411), (14.6, 0.8976328338267677), (14.6, 0.8983847958810104), (14.6, 0.8966070766371479), (20.8, 0.8344077538099418), (20.8, 0.8346750248695907), (20.8, 0.8341327520998131), (21.6, 0.8311823373865933), (21.6, 0.830957024016413), (21.6, 0.8313383919815067), (21.7, 0.8316389502537733), (21.7, 0.8320700338912457), (21.7, 0.8315444974890637), (29.8, 0.7854503238267141), (29.8, 0.7849157397222702), (29.8, 0.7854699674009511), (32.1, 0.7683185939125379), (32.0, 0.7710461713086953), (32.0, 0.769950794041422), (32.1, 0.770099794476479), (32.0, 0.7682257880918709), (32.0, 0.7688469710011858), (32.1, 0.7688674310554464), (32.0, 0.7694922873323496), (32.0, 0.7701245219065196), (32.0, 0.7701433855438038), (32.0, 0.7701981438236282), (32.0, 0.7705643564165783)]\n"
     ]
    }
   ],
   "source": [
    "print(list(zip(move,simi)))"
   ]
  },
  {
   "cell_type": "code",
   "execution_count": 112,
   "metadata": {},
   "outputs": [],
   "source": []
  },
  {
   "cell_type": "code",
   "execution_count": 124,
   "metadata": {},
   "outputs": [],
   "source": [
    "s=zip(move,simi)"
   ]
  },
  {
   "cell_type": "code",
   "execution_count": 125,
   "metadata": {},
   "outputs": [],
   "source": [
    "s2=sorted(s,key=lambda x: x[1],reverse=True)"
   ]
  },
  {
   "cell_type": "code",
   "execution_count": 126,
   "metadata": {},
   "outputs": [
    {
     "data": {
      "text/plain": [
       "[(1.6, 0.9337927204221603),\n",
       " (1.6, 0.9336091183973427),\n",
       " (1.6, 0.9327057183167075),\n",
       " (4.3, 0.931511078131848),\n",
       " (4.3, 0.9288475717162411),\n",
       " (4.3, 0.9285524779297402),\n",
       " (14.6, 0.8983847958810104),\n",
       " (14.6, 0.8976328338267677),\n",
       " (14.6, 0.8966070766371479),\n",
       " (20.8, 0.8346750248695907),\n",
       " (20.8, 0.8344077538099418),\n",
       " (20.8, 0.8341327520998131),\n",
       " (21.7, 0.8320700338912457),\n",
       " (21.7, 0.8316389502537733),\n",
       " (21.7, 0.8315444974890637),\n",
       " (21.6, 0.8313383919815067),\n",
       " (21.6, 0.8311823373865933),\n",
       " (21.6, 0.830957024016413),\n",
       " (29.8, 0.7854699674009511),\n",
       " (29.8, 0.7854503238267141),\n",
       " (29.8, 0.7849157397222702),\n",
       " (32.0, 0.7710461713086953),\n",
       " (32.0, 0.7705643564165783),\n",
       " (32.0, 0.7701981438236282),\n",
       " (32.0, 0.7701433855438038),\n",
       " (32.0, 0.7701245219065196),\n",
       " (32.1, 0.770099794476479),\n",
       " (32.0, 0.769950794041422),\n",
       " (32.0, 0.7694922873323496),\n",
       " (32.1, 0.7688674310554464),\n",
       " (32.0, 0.7688469710011858),\n",
       " (32.1, 0.7683185939125379),\n",
       " (32.0, 0.7682257880918709)]"
      ]
     },
     "execution_count": 126,
     "metadata": {},
     "output_type": "execute_result"
    }
   ],
   "source": [
    "s2"
   ]
  },
  {
   "cell_type": "code",
   "execution_count": null,
   "metadata": {},
   "outputs": [],
   "source": []
  }
 ],
 "metadata": {
  "kernelspec": {
   "display_name": "Python 3",
   "language": "python",
   "name": "python3"
  },
  "language_info": {
   "codemirror_mode": {
    "name": "ipython",
    "version": 3
   },
   "file_extension": ".py",
   "mimetype": "text/x-python",
   "name": "python",
   "nbconvert_exporter": "python",
   "pygments_lexer": "ipython3",
   "version": "3.6.5"
  }
 },
 "nbformat": 4,
 "nbformat_minor": 2
}
