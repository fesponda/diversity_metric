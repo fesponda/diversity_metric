{
 "cells": [
  {
   "cell_type": "code",
   "execution_count": 1,
   "metadata": {},
   "outputs": [],
   "source": [
    "from scipy.stats import spearmanr, stats\n",
    "from scipy.spatial.distance import euclidean\n",
    "from random import randint, shuffle,sample,random\n",
    "import numpy as np\n",
    "import matplotlib.pyplot as plt\n",
    "% matplotlib inline\n",
    "path='/Users/fesponda/research/Diversity/Data/probP1/'"
   ]
  },
  {
   "cell_type": "code",
   "execution_count": 2,
   "metadata": {},
   "outputs": [],
   "source": [
    "def read_ELF(file1):\n",
    "    with open(file1, 'rb') as f:\n",
    "        P1=list(f.read())\n",
    "    return P1\n",
    "\n"
   ]
  },
  {
   "cell_type": "code",
   "execution_count": 3,
   "metadata": {},
   "outputs": [],
   "source": [
    "##Create dictionary. For each byte in the block we create unique entry. If a byte is repeated we append if its the first, second, etc occurrence\n",
    "def P1_dictionary(P1):\n",
    "    P1_dict={}\n",
    "    P1_occ={}\n",
    "    for index,byte in enumerate(P1):   \n",
    "        if byte  in P1_occ.keys():\n",
    "            P1_occ[byte]+=1\n",
    "        else:\n",
    "            P1_occ[byte]=1\n",
    "        value=str(byte)+'_'+str(P1_occ[byte]) ## here we create a unique value for each byte in the section\n",
    "        P1_dict[value]=index+1 #we start to count at 1\n",
    "    return P1_dict"
   ]
  },
  {
   "cell_type": "code",
   "execution_count": 4,
   "metadata": {},
   "outputs": [],
   "source": [
    "####Rank instructions of a block according to first file template\n",
    "def rank_P2(P1_dict,P2,intersection=False):\n",
    "    a=[]        \n",
    "    b=[]\n",
    "    med_rank=len(P1_dict.keys())/2.0\n",
    "    P2_dict={}\n",
    "    P2_occ={}\n",
    "    for index,byte in enumerate(P2):   \n",
    "        if byte  in P2_occ.keys():\n",
    "            P2_occ[byte]+=1\n",
    "        else:\n",
    "            P2_occ[byte]=1\n",
    "        value=str(byte)+'_'+str(P2_occ[byte]) ## here we create a unique value for each byte in the section\n",
    "        if value in P1_dict.keys():\n",
    "            P2_dict[value]=P1_dict[value]\n",
    "            a.append(index+1)\n",
    "            b.append(P2_dict[value])\n",
    "        elif not intersection:\n",
    "            P2_dict[value]=0 ###zero for no existent value....check Maybe not bother, Maybe random, maybe average\n",
    "            P2_dict[value]=med_rank \n",
    "            #P2_dict[value]=randint(1,90)\n",
    "            a.append(index+1)\n",
    "            b.append(P2_dict[value])\n",
    "            \n",
    "    #print(len(a),len(b))\n",
    "    return a,b\n",
    "\n"
   ]
  },
  {
   "cell_type": "code",
   "execution_count": 6,
   "metadata": {},
   "outputs": [
    {
     "name": "stdout",
     "output_type": "stream",
     "text": [
      "[('httpd-1650_0', 0.882023641410169, 0.0), ('httpd-1000_0', 0.9146168894092985, 0.0), ('httpd-1650_1', 0.8818189002256103, 0.0), ('httpd-1000_1', 0.9159362376590842, 0.0), ('httpd-1650_2', 0.8823268247664116, 0.0), ('httpd-1000_2', 0.9152902251447087, 0.0), ('httpd-1660_0', 0.8837898171734698, 0.0), ('httpd-1100_0', 0.9059104066054929, 0.0), ('httpd-1660_1', 0.8837755583378154, 0.0), ('httpd-1100_1', 0.9062157212617451, 0.0), ('httpd-1660_2', 0.8831184126298987, 0.0), ('httpd-1100_2', 0.9056863519771965, 0.0), ('httpd-1670_0', 0.8825411634130071, 0.0), ('httpd-1200_0', 0.9005255053698855, 0.0), ('httpd-1670_1', 0.8819698965308216, 0.0), ('httpd-1200_1', 0.9000429112608961, 0.0), ('httpd-1670_2', 0.8838135520360539, 0.0), ('httpd-1200_2', 0.9004510112412132, 0.0), ('httpd-1680_0', 0.8830612360664882, 0.0), ('httpd-1300_0', 0.9008214240378695, 0.0), ('httpd-1680_1', 0.8833878370871251, 0.0), ('httpd-1300_1', 0.8994911098767084, 0.0), ('httpd-1680_2', 0.8827302427236529, 0.0), ('httpd-1300_2', 0.8944243298440788, 0.0), ('httpd-1690_0', 0.882956661668282, 0.0), ('httpd-1400_0', 0.9021622551513646, 0.0), ('httpd-1690_1', 0.8839947786671308, 0.0), ('httpd-1400_1', 0.9019553520412772, 0.0), ('httpd-1690_2', 0.8813099090566829, 0.0), ('httpd-1400_2', 0.9000864374628023, 0.0), ('httpd-500_0', 0.9471490158739253, 0.0), ('httpd-1500_0', 0.8962061044511972, 0.0), ('httpd-500_1', 0.9471542401625753, 0.0), ('httpd-1500_1', 0.8937185837282487, 0.0), ('httpd-500_2', 0.9471216911078659, 0.0), ('httpd-1500_2', 0.8931937856687195, 0.0), ('httpd-600_0', 0.9398375009051193, 0.0), ('httpd-1600_0', 0.8858612668914143, 0.0), ('httpd-600_1', 0.9396723704873069, 0.0), ('httpd-1600_1', 0.886695485984795, 0.0), ('httpd-600_2', 0.9398652021794165, 0.0), ('httpd-1600_2', 0.8841559490923157, 0.0), ('httpd-700_0', 0.9310871015259221, 0.0), ('httpd-1610_0', 0.8830694883104274, 0.0), ('httpd-700_1', 0.9311191923153312, 0.0), ('httpd-1610_1', 0.886100073638726, 0.0), ('httpd-700_2', 0.9310280733182463, 0.0), ('httpd-1610_2', 0.8861780912858852, 0.0), ('httpd-800_0', 0.9233688433433866, 0.0), ('httpd-1620_0', 0.8842594259731922, 0.0), ('httpd-800_1', 0.9252288843746147, 0.0), ('httpd-1620_1', 0.8848215455762537, 0.0), ('httpd-800_2', 0.925165673452093, 0.0), ('httpd-1620_2', 0.8850359639944867, 0.0), ('httpd-900_0', 0.9198404143321083, 0.0), ('httpd-1630_0', 0.8834594317496095, 0.0), ('httpd-900_1', 0.9201320909855345, 0.0), ('httpd-1630_1', 0.883664910009898, 0.0), ('httpd-900_2', 0.9199827589993158, 0.0), ('httpd-1630_2', 0.8827235368620046, 0.0), ('httpd-1640_0', 0.8844039640655067, 0.0), ('httpd-1640_1', 0.8828763811710214, 0.0), ('httpd-1640_2', 0.88327856418174, 0.0)]\n"
     ]
    }
   ],
   "source": [
    "l= [\n",
    "'httpd-1650_0',\n",
    "'httpd-1000_0',\t\t\t'httpd-1650_1',\n",
    "'httpd-1000_1',\t\t\t'httpd-1650_2',\n",
    "'httpd-1000_2',\t\t\t'httpd-1660_0',\n",
    "'httpd-1100_0',\t\t\t'httpd-1660_1',\n",
    "'httpd-1100_1',\t\t\t'httpd-1660_2',\n",
    "'httpd-1100_2',\t\t\t'httpd-1670_0',\n",
    "'httpd-1200_0',\t\t\t'httpd-1670_1',\n",
    "'httpd-1200_1',\t\t\t'httpd-1670_2',\n",
    "'httpd-1200_2',\t\t\t'httpd-1680_0',\n",
    "'httpd-1300_0',\t\t\t'httpd-1680_1',\n",
    "'httpd-1300_1',\t\t\t'httpd-1680_2',\n",
    "'httpd-1300_2',\t\t\t'httpd-1690_0',\n",
    "'httpd-1400_0',\t\t\t'httpd-1690_1',\n",
    "'httpd-1400_1',\t\t\t'httpd-1690_2',\n",
    "'httpd-1400_2',\t\t\t'httpd-500_0',\n",
    "'httpd-1500_0',\t\t\t'httpd-500_1',\n",
    "'httpd-1500_1',\t\t\t'httpd-500_2',\n",
    "'httpd-1500_2',\t\t\t'httpd-600_0',\n",
    "'httpd-1600_0',\t\t\t'httpd-600_1',\n",
    "'httpd-1600_1',\t\t\t'httpd-600_2',\n",
    "'httpd-1600_2',\t\t\t'httpd-700_0',\n",
    "'httpd-1610_0',\t\t\t'httpd-700_1',\n",
    "'httpd-1610_1',\t\t\t'httpd-700_2',\n",
    "'httpd-1610_2',\t\t\t'httpd-800_0',\n",
    "'httpd-1620_0',\t\t\t'httpd-800_1',\n",
    "'httpd-1620_1',\t\t\t'httpd-800_2',\n",
    "'httpd-1620_2',\t\t\t'httpd-900_0',\n",
    "'httpd-1630_0',\t\t\t'httpd-900_1',\n",
    "'httpd-1630_1',\t\t\t'httpd-900_2',\n",
    "'httpd-1630_2',\t\t\t\n",
    "'httpd-1640_0',\t\t\t\n",
    "'httpd-1640_1',\t\t\t\n",
    "'httpd-1640_2'    \n",
    "]\n",
    "\n",
    "P1=read_ELF(path+'httpd-original')\n",
    "P1_dict=P1_dictionary(P1)\n",
    "result=[]\n",
    "for knob in l:\n",
    "    P2=read_ELF(path+knob)\n",
    "    a,b=rank_P2(P1_dict,P2,intersection=True)\n",
    "    corr,p=spearmanr(a,b)\n",
    "    result.append((knob,corr,p))\n",
    "print(result)"
   ]
  },
  {
   "cell_type": "code",
   "execution_count": 7,
   "metadata": {},
   "outputs": [],
   "source": [
    "result=sorted(result,key=lambda x: x[0])\n",
    "with open(path+'functions_transformed.csv') as fp:\n",
    "    lines=fp.readlines()\n",
    "\n",
    "perc_moved=[]\n",
    "for line in lines:\n",
    "    l=line.rstrip().split(',')\n",
    "    perc_moved.append((l[0],float(l[1])))\n",
    "\n",
    "perc_moved=sorted(perc_moved,key=lambda x: x[0])\n",
    "###check could of zipped but I rather check\n",
    "simi=[]\n",
    "move=[]\n",
    "for sim,perc in zip(result,perc_moved):\n",
    "    if perc[0] not in sim[0]:\n",
    "        print ('Transformation file doesnt match correlation file')\n",
    "        break\n",
    "    simi.append(sim[1])\n",
    "    move.append(perc[1])\n",
    "    \n",
    "final=zip(result,perc_moved)"
   ]
  },
  {
   "cell_type": "code",
   "execution_count": 11,
   "metadata": {},
   "outputs": [
    {
     "data": {
      "image/png": "[encoded data removed]",
      "text/plain": [
       "<Figure size 432x288 with 1 Axes>"
      ]
     },
     "metadata": {},
     "output_type": "display_data"
    }
   ],
   "source": [
    "plt.scatter(move,simi,marker='.')\n",
    "plt.ylabel('Similarity')\n",
    "plt.xlabel('Functions Transformed')\n",
    "plt.title('Permutation Diversity on Functions Transformed')\n",
    "plt.savefig('permutationDiversity-functions.pdf')"
   ]
  },
  {
   "cell_type": "code",
   "execution_count": 10,
   "metadata": {},
   "outputs": [
    {
     "name": "stdout",
     "output_type": "stream",
     "text": [
      "[(('httpd-1000_0', 0.9146168894092985, 0.0), ('1000_0', 423.0)), (('httpd-1000_1', 0.9159362376590842, 0.0), ('1000_1', 423.0)), (('httpd-1000_2', 0.9152902251447087, 0.0), ('1000_2', 423.0)), (('httpd-1100_0', 0.9059104066054929, 0.0), ('1100_0', 518.0)), (('httpd-1100_1', 0.9062157212617451, 0.0), ('1100_1', 518.0)), (('httpd-1100_2', 0.9056863519771965, 0.0), ('1100_2', 518.0)), (('httpd-1200_0', 0.9005255053698855, 0.0), ('1200_0', 609.0)), (('httpd-1200_1', 0.9000429112608961, 0.0), ('1200_1', 609.0)), (('httpd-1200_2', 0.9004510112412132, 0.0), ('1200_2', 609.0)), (('httpd-1300_0', 0.9008214240378695, 0.0), ('1300_0', 696.0)), (('httpd-1300_1', 0.8994911098767084, 0.0), ('1300_1', 696.0)), (('httpd-1300_2', 0.8944243298440788, 0.0), ('1300_2', 696.0)), (('httpd-1400_0', 0.9021622551513646, 0.0), ('1400_0', 770.0)), (('httpd-1400_1', 0.9019553520412772, 0.0), ('1400_1', 770.0)), (('httpd-1400_2', 0.9000864374628023, 0.0), ('1400_2', 770.0)), (('httpd-1500_0', 0.8962061044511972, 0.0), ('1500_0', 847.0)), (('httpd-1500_1', 0.8937185837282487, 0.0), ('1500_1', 847.0)), (('httpd-1500_2', 0.8931937856687195, 0.0), ('1500_2', 847.0)), (('httpd-1600_0', 0.8858612668914143, 0.0), ('1600_0', 910.0)), (('httpd-1600_1', 0.886695485984795, 0.0), ('1600_1', 910.0)), (('httpd-1600_2', 0.8841559490923157, 0.0), ('1600_2', 910.0)), (('httpd-1610_0', 0.8830694883104274, 0.0), ('1610_0', 913.0)), (('httpd-1610_1', 0.886100073638726, 0.0), ('1610_1', 913.0)), (('httpd-1610_2', 0.8861780912858852, 0.0), ('1610_2', 913.0)), (('httpd-1620_0', 0.8842594259731922, 0.0), ('1620_0', 917.0)), (('httpd-1620_1', 0.8848215455762537, 0.0), ('1620_1', 917.0)), (('httpd-1620_2', 0.8850359639944867, 0.0), ('1620_2', 917.0)), (('httpd-1630_0', 0.8834594317496095, 0.0), ('1630_0', 920.0)), (('httpd-1630_1', 0.883664910009898, 0.0), ('1630_1', 920.0)), (('httpd-1630_2', 0.8827235368620046, 0.0), ('1630_2', 920.0)), (('httpd-1640_0', 0.8844039640655067, 0.0), ('1640_0', 921.0)), (('httpd-1640_1', 0.8828763811710214, 0.0), ('1640_1', 921.0)), (('httpd-1640_2', 0.88327856418174, 0.0), ('1640_2', 921.0)), (('httpd-1650_0', 0.882023641410169, 0.0), ('1650_0', 923.0)), (('httpd-1650_1', 0.8818189002256103, 0.0), ('1650_1', 923.0)), (('httpd-1650_2', 0.8823268247664116, 0.0), ('1650_2', 923.0)), (('httpd-1660_0', 0.8837898171734698, 0.0), ('1660_0', 928.0)), (('httpd-1660_1', 0.8837755583378154, 0.0), ('1660_1', 928.0)), (('httpd-1660_2', 0.8831184126298987, 0.0), ('1660_2', 928.0)), (('httpd-1670_0', 0.8825411634130071, 0.0), ('1670_0', 930.0)), (('httpd-1670_1', 0.8819698965308216, 0.0), ('1670_1', 930.0)), (('httpd-1670_2', 0.8838135520360539, 0.0), ('1670_2', 930.0)), (('httpd-1680_0', 0.8830612360664882, 0.0), ('1680_0', 934.0)), (('httpd-1680_1', 0.8833878370871251, 0.0), ('1680_1', 934.0)), (('httpd-1680_2', 0.8827302427236529, 0.0), ('1680_2', 934.0)), (('httpd-1690_0', 0.882956661668282, 0.0), ('1690_0', 939.0)), (('httpd-1690_1', 0.8839947786671308, 0.0), ('1690_1', 939.0)), (('httpd-1690_2', 0.8813099090566829, 0.0), ('1690_2', 939.0)), (('httpd-500_0', 0.9471490158739253, 0.0), ('500_0', 49.0)), (('httpd-500_1', 0.9471542401625753, 0.0), ('500_1', 49.0)), (('httpd-500_2', 0.9471216911078659, 0.0), ('500_2', 49.0)), (('httpd-600_0', 0.9398375009051193, 0.0), ('600_0', 128.0)), (('httpd-600_1', 0.9396723704873069, 0.0), ('600_1', 128.0)), (('httpd-600_2', 0.9398652021794165, 0.0), ('600_2', 128.0)), (('httpd-700_0', 0.9310871015259221, 0.0), ('700_0', 214.0)), (('httpd-700_1', 0.9311191923153312, 0.0), ('700_1', 214.0)), (('httpd-700_2', 0.9310280733182463, 0.0), ('700_2', 214.0)), (('httpd-800_0', 0.9233688433433866, 0.0), ('800_0', 292.0)), (('httpd-800_1', 0.9252288843746147, 0.0), ('800_1', 292.0)), (('httpd-800_2', 0.925165673452093, 0.0), ('800_2', 292.0)), (('httpd-900_0', 0.9198404143321083, 0.0), ('900_0', 337.0)), (('httpd-900_1', 0.9201320909855345, 0.0), ('900_1', 337.0)), (('httpd-900_2', 0.9199827589993158, 0.0), ('900_2', 337.0))]\n"
     ]
    }
   ],
   "source": [
    "print(list(final))"
   ]
  },
  {
   "cell_type": "code",
   "execution_count": 104,
   "metadata": {},
   "outputs": [
    {
     "name": "stdout",
     "output_type": "stream",
     "text": [
      "[(1.6, 0.9336091183973427), (1.6, 0.9327057183167075), (1.6, 0.9337927204221603), (4.3, 0.931511078131848), (4.3, 0.9285524779297402), (4.3, 0.9288475717162411), (14.6, 0.8976328338267677), (14.6, 0.8983847958810104), (14.6, 0.8966070766371479), (20.8, 0.8344077538099418), (20.8, 0.8346750248695907), (20.8, 0.8341327520998131), (21.6, 0.8311823373865933), (21.6, 0.830957024016413), (21.6, 0.8313383919815067), (21.7, 0.8316389502537733), (21.7, 0.8320700338912457), (21.7, 0.8315444974890637), (29.8, 0.7854503238267141), (29.8, 0.7849157397222702), (29.8, 0.7854699674009511), (32.1, 0.7683185939125379), (32.0, 0.7710461713086953), (32.0, 0.769950794041422), (32.1, 0.770099794476479), (32.0, 0.7682257880918709), (32.0, 0.7688469710011858), (32.1, 0.7688674310554464), (32.0, 0.7694922873323496), (32.0, 0.7701245219065196), (32.0, 0.7701433855438038), (32.0, 0.7701981438236282), (32.0, 0.7705643564165783)]\n"
     ]
    }
   ],
   "source": [
    "print(list(zip(move,simi)))"
   ]
  },
  {
   "cell_type": "code",
   "execution_count": 112,
   "metadata": {},
   "outputs": [],
   "source": []
  },
  {
   "cell_type": "code",
   "execution_count": 124,
   "metadata": {},
   "outputs": [],
   "source": [
    "s=zip(move,simi)"
   ]
  },
  {
   "cell_type": "code",
   "execution_count": 125,
   "metadata": {},
   "outputs": [],
   "source": [
    "s2=sorted(s,key=lambda x: x[1],reverse=True)"
   ]
  },
  {
   "cell_type": "code",
   "execution_count": 126,
   "metadata": {},
   "outputs": [
    {
     "data": {
      "text/plain": [
       "[(1.6, 0.9337927204221603),\n",
       " (1.6, 0.9336091183973427),\n",
       " (1.6, 0.9327057183167075),\n",
       " (4.3, 0.931511078131848),\n",
       " (4.3, 0.9288475717162411),\n",
       " (4.3, 0.9285524779297402),\n",
       " (14.6, 0.8983847958810104),\n",
       " (14.6, 0.8976328338267677),\n",
       " (14.6, 0.8966070766371479),\n",
       " (20.8, 0.8346750248695907),\n",
       " (20.8, 0.8344077538099418),\n",
       " (20.8, 0.8341327520998131),\n",
       " (21.7, 0.8320700338912457),\n",
       " (21.7, 0.8316389502537733),\n",
       " (21.7, 0.8315444974890637),\n",
       " (21.6, 0.8313383919815067),\n",
       " (21.6, 0.8311823373865933),\n",
       " (21.6, 0.830957024016413),\n",
       " (29.8, 0.7854699674009511),\n",
       " (29.8, 0.7854503238267141),\n",
       " (29.8, 0.7849157397222702),\n",
       " (32.0, 0.7710461713086953),\n",
       " (32.0, 0.7705643564165783),\n",
       " (32.0, 0.7701981438236282),\n",
       " (32.0, 0.7701433855438038),\n",
       " (32.0, 0.7701245219065196),\n",
       " (32.1, 0.770099794476479),\n",
       " (32.0, 0.769950794041422),\n",
       " (32.0, 0.7694922873323496),\n",
       " (32.1, 0.7688674310554464),\n",
       " (32.0, 0.7688469710011858),\n",
       " (32.1, 0.7683185939125379),\n",
       " (32.0, 0.7682257880918709)]"
      ]
     },
     "execution_count": 126,
     "metadata": {},
     "output_type": "execute_result"
    }
   ],
   "source": [
    "s2"
   ]
  },
  {
   "cell_type": "code",
   "execution_count": null,
   "metadata": {},
   "outputs": [],
   "source": []
  }
 ],
 "metadata": {
  "kernelspec": {
   "display_name": "Python 3",
   "language": "python",
   "name": "python3"
  },
  "language_info": {
   "codemirror_mode": {
    "name": "ipython",
    "version": 3
   },
   "file_extension": ".py",
   "mimetype": "text/x-python",
   "name": "python",
   "nbconvert_exporter": "python",
   "pygments_lexer": "ipython3",
   "version": "3.6.5"
  }
 },
 "nbformat": 4,
 "nbformat_minor": 2
}
