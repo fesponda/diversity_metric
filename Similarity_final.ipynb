{
 "cells": [
  {
   "cell_type": "markdown",
   "metadata": {},
   "source": [
    "### This file contains the code to compute the similarity metric between an original file and its variants. It is parametrized by whether the file should be read as instructions or bytes.\n",
    "\n",
    "Some earier file has the code to compute similarity between variants and plot this against effectiveness to prevent attacks"
   ]
  },
  {
   "cell_type": "code",
   "execution_count": 1,
   "metadata": {},
   "outputs": [],
   "source": [
    "from scipy.stats import spearmanr, stats\n",
    "from scipy.spatial.distance import euclidean\n",
    "from random import randint, shuffle,sample,random\n",
    "from os import listdir\n",
    "from os.path import isfile, join\n",
    "import numpy as np\n",
    "import matplotlib.pyplot as plt\n",
    "% matplotlib inline\n",
    "path='/Users/fesponda/research/Diversity/Data/probNog_probBilr_randomized_2/'\n",
    "\n",
    "ORIGINAL_FILE=path+'original'\n",
    "TRANSFORMATION_INTENSITY_FILE='percent_items_moved'\n",
    "OUTPUT_GRAPH='probNog_probBilr_randomized_2.pdf'\n",
    "\n",
    "###Variable that controls if data is treated as bytes or instructions\n",
    "BYTE_FILE=True\n",
    "if BYTE_FILE:\n",
    "    TRANSFORMS_DIR=path+'binaries/'\n",
    "else:\n",
    "    TRANSFORMS_DIR=path+'instructions/'\n"
   ]
  },
  {
   "cell_type": "markdown",
   "metadata": {},
   "source": [
    "# Function Definitions"
   ]
  },
  {
   "cell_type": "code",
   "execution_count": 2,
   "metadata": {},
   "outputs": [],
   "source": [
    "def read_instructions(file1):\n",
    "    f=open(file1, 'r')\n",
    "    P1=[]\n",
    "    for line in f:\n",
    "        P1.append(line.strip().replace(\" \",\"\"))\n",
    "    return P1\n",
    "\n"
   ]
  },
  {
   "cell_type": "code",
   "execution_count": 3,
   "metadata": {},
   "outputs": [],
   "source": [
    "def read_ELF(file1):\n",
    "    with open(file1, 'rb') as f:\n",
    "        P1=list(f.read())\n",
    "    return P1\n",
    "\n"
   ]
  },
  {
   "cell_type": "code",
   "execution_count": 4,
   "metadata": {},
   "outputs": [],
   "source": [
    "#P1=read_instructions(ORIGINAL_FILE)\n"
   ]
  },
  {
   "cell_type": "code",
   "execution_count": 5,
   "metadata": {},
   "outputs": [],
   "source": [
    "def read_instructions_only_inst(file1):\n",
    "    f=open(file1, 'r')\n",
    "    P1=[]\n",
    "    for line in f:\n",
    "        P1.append(line.split()[0])\n",
    "    return P1\n"
   ]
  },
  {
   "cell_type": "code",
   "execution_count": 6,
   "metadata": {},
   "outputs": [],
   "source": [
    "def read_file(file1,BYTE_FILE):\n",
    "    if BYTE_FILE: \n",
    "        return read_ELF(file1)\n",
    "    else:\n",
    "        return read_instructions(file1)"
   ]
  },
  {
   "cell_type": "code",
   "execution_count": 7,
   "metadata": {},
   "outputs": [],
   "source": [
    "##Create dictionary. For each byte in the block we create unique entry. If a byte is repeated we append if its the first, second, etc occurrence\n",
    "def P1_dictionary(P1):\n",
    "    P1_dict={}\n",
    "    P1_occ={}\n",
    "    for index,byte in enumerate(P1):   \n",
    "        if byte  in P1_occ.keys():\n",
    "            P1_occ[byte]+=1\n",
    "        else:\n",
    "            P1_occ[byte]=1\n",
    "        value=str(byte)+'_'+str(P1_occ[byte]) ## here we create a unique value for each byte in the section\n",
    "        P1_dict[value]=index+1 #we start to count at 1\n",
    "    return P1_dict"
   ]
  },
  {
   "cell_type": "code",
   "execution_count": 8,
   "metadata": {},
   "outputs": [],
   "source": [
    "####Rank instructions of a block according to first file template\n",
    "def rank_P2(P1_dict,P2,intersection=False):\n",
    "    a=[]        \n",
    "    b=[]\n",
    "    med_rank=len(P1_dict.keys())/2.0\n",
    "    P2_dict={}\n",
    "    P2_occ={}\n",
    "    for index,byte in enumerate(P2):   \n",
    "        if byte  in P2_occ.keys():\n",
    "            P2_occ[byte]+=1\n",
    "        else:\n",
    "            P2_occ[byte]=1\n",
    "        value=str(byte)+'_'+str(P2_occ[byte]) ## here we create a unique value for each byte in the section\n",
    "        if value in P1_dict.keys():\n",
    "            P2_dict[value]=P1_dict[value]\n",
    "            a.append(index+1)\n",
    "            b.append(P2_dict[value])\n",
    "        elif not intersection:\n",
    "            P2_dict[value]=0 ###zero for no existent value....check Maybe not bother, Maybe random, maybe average\n",
    "            P2_dict[value]=med_rank \n",
    "            #P2_dict[value]=randint(1,90)\n",
    "            a.append(index+1)\n",
    "            b.append(P2_dict[value])\n",
    "            \n",
    "    #print(len(a),len(b))\n",
    "    return a,b\n",
    "\n"
   ]
  },
  {
   "cell_type": "markdown",
   "metadata": {},
   "source": [
    "# Execution"
   ]
  },
  {
   "cell_type": "code",
   "execution_count": 9,
   "metadata": {},
   "outputs": [],
   "source": [
    "# Get list of files\n",
    "l = [f for f in listdir(TRANSFORMS_DIR) if isfile(join(TRANSFORMS_DIR, f)) and f[0]!='.']"
   ]
  },
  {
   "cell_type": "code",
   "execution_count": 10,
   "metadata": {},
   "outputs": [
    {
     "name": "stdout",
     "output_type": "stream",
     "text": [
      "[('httpd-900_2', 0.7868930243368037, 0.0), ('httpd-1800_1', 0.7679202597739322, 0.0), ('httpd-1900_1', 0.8631251058199246, 0.0), ('httpd-800_2', 0.8722691526621776, 0.0), ('httpd-1800_0', 0.7669186965987448, 0.0), ('httpd-1900_0', 0.8354500603755096, 0.0), ('httpd-2000_0', 0.766566210754673, 0.0), ('httpd-2000_1', 0.7771525920342606, 0.0), ('httpd-1000_2', 0.8455415196248505, 0.0), ('httpd-1100_2', 0.8580622443502293, 0.0), ('httpd-1300_2', 0.7981185589076162, 0.0), ('httpd-1200_2', 0.8637135882536592, 0.0), ('httpd-1600_2', 0.8275962500215961, 0.0), ('httpd-700_1', 0.864674193012445, 0.0), ('httpd-600_1', 0.8386509035603447, 0.0), ('httpd-1700_2', 0.821511587593175, 0.0), ('httpd-500_0', 0.8757304947749054, 0.0), ('httpd-700_0', 0.864241550706105, 0.0), ('httpd-1500_2', 0.7673648950123467, 0.0), ('httpd-500_1', 0.8765191310579306, 0.0), ('httpd-1400_2', 0.8958454362854362, 0.0), ('httpd-600_0', 0.9452667890897252, 0.0), ('httpd-1900_2', 0.8619625203439268, 0.0), ('httpd-800_1', 0.9391931939543097, 0.0), ('httpd-900_1', 0.8684621292293483, 0.0), ('httpd-1800_2', 0.8609969131909516, 0.0), ('httpd-800_0', 0.8717288972952437, 0.0), ('httpd-900_0', 0.8540774121581619, 0.0), ('httpd-2000_2', 0.7664626204098913, 0.0), ('httpd-1200_0', 0.8708008040806705, 0.0), ('httpd-1100_1', 0.8267735422279469, 0.0), ('httpd-1000_1', 0.8252374946405677, 0.0), ('httpd-1300_0', 0.8356004907838182, 0.0), ('httpd-1100_0', 0.8261513053627676, 0.0), ('httpd-1200_1', 0.834984516265617, 0.0), ('httpd-1300_1', 0.7981888388222347, 0.0), ('httpd-1000_0', 0.8262410018176888, 0.0), ('httpd-1400_0', 0.8845785704258529, 0.0), ('httpd-600_2', 0.8384780436150671, 0.0), ('httpd-1700_1', 0.8202887417939958, 0.0), ('httpd-1600_1', 0.8630935678244706, 0.0), ('httpd-700_2', 0.8635939078420181, 0.0), ('httpd-1500_0', 0.8302929589642741, 0.0), ('httpd-1700_0', 0.7662099554610806, 0.0), ('httpd-500_2', 0.8752966855967352, 0.0), ('httpd-1400_1', 0.8965941612797843, 0.0), ('httpd-1500_1', 0.8419493645901496, 0.0), ('httpd-1600_0', 0.8619433910199029, 0.0)]\n"
     ]
    }
   ],
   "source": [
    "# Compute similarity between original and each transform\n",
    "P1=read_file(ORIGINAL_FILE,BYTE_FILE)\n",
    "P1_dict=P1_dictionary(P1)\n",
    "result=[]\n",
    "for knob in l:\n",
    "    P2=read_file(TRANSFORMS_DIR+knob,BYTE_FILE)\n",
    "    a,b=rank_P2(P1_dict,P2,intersection=True)\n",
    "    corr,p=spearmanr(a,b)\n",
    "    result.append((knob,corr,p))\n",
    "print(result)"
   ]
  },
  {
   "cell_type": "code",
   "execution_count": 11,
   "metadata": {},
   "outputs": [
    {
     "name": "stdout",
     "output_type": "stream",
     "text": [
      "1000_0 httpd-1000_0\n",
      "1000_1 httpd-1000_1\n",
      "1000_2 httpd-1000_2\n",
      "1100_0 httpd-1100_0\n",
      "1100_1 httpd-1100_1\n",
      "1100_2 httpd-1100_2\n",
      "1200_0 httpd-1200_0\n",
      "1200_1 httpd-1200_1\n",
      "1200_2 httpd-1200_2\n",
      "1300_0 httpd-1300_0\n",
      "1300_1 httpd-1300_1\n",
      "1300_2 httpd-1300_2\n",
      "1400_0 httpd-1400_0\n",
      "1400_1 httpd-1400_1\n",
      "1400_2 httpd-1400_2\n",
      "1500_0 httpd-1500_0\n",
      "1500_1 httpd-1500_1\n",
      "1500_2 httpd-1500_2\n",
      "1600_0 httpd-1600_0\n",
      "1600_1 httpd-1600_1\n",
      "1600_2 httpd-1600_2\n",
      "1700_0 httpd-1700_0\n",
      "1700_1 httpd-1700_1\n",
      "1700_2 httpd-1700_2\n",
      "1800_0 httpd-1800_0\n",
      "1800_1 httpd-1800_1\n",
      "1800_2 httpd-1800_2\n",
      "1900_0 httpd-1900_0\n",
      "1900_1 httpd-1900_1\n",
      "1900_2 httpd-1900_2\n",
      "2000_0 httpd-2000_0\n",
      "2000_1 httpd-2000_1\n",
      "2000_2 httpd-2000_2\n",
      "500_0 httpd-500_0\n",
      "500_1 httpd-500_1\n",
      "500_2 httpd-500_2\n",
      "600_0 httpd-600_0\n",
      "600_1 httpd-600_1\n",
      "600_2 httpd-600_2\n",
      "700_0 httpd-700_0\n",
      "700_1 httpd-700_1\n",
      "700_2 httpd-700_2\n",
      "800_0 httpd-800_0\n",
      "800_1 httpd-800_1\n",
      "800_2 httpd-800_2\n",
      "900_0 httpd-900_0\n",
      "900_1 httpd-900_1\n",
      "900_2 httpd-900_2\n"
     ]
    }
   ],
   "source": [
    "# Pair up the similarity with the intensity of the transform. This is very specific to the current file \n",
    "# formats. The intensity file has a fragment of the transforms file name and the intensity comma separated\n",
    "\n",
    "result=sorted(result,key=lambda x: x[0])\n",
    "with open(path+TRANSFORMATION_INTENSITY_FILE) as fp:\n",
    "    lines=fp.readlines()\n",
    "\n",
    "perc_moved=[]\n",
    "for line in lines:\n",
    "    l=line.rstrip().split(',')\n",
    "    perc_moved.append((l[0],float(l[1])))\n",
    "perc_moved=sorted(perc_moved,key=lambda x: x[0])\n",
    "###check could of sorted but I rather check\n",
    "\n",
    "simi=[]\n",
    "move=[]\n",
    "\n",
    "for sim in result:\n",
    "    for perc in perc_moved:\n",
    "        if perc[0] in sim[0]:\n",
    "            print (perc[0], sim[0])\n",
    "            simi.append(sim[1])\n",
    "            move.append(perc[1])\n",
    "            break\n",
    "final=zip(result,perc_moved)"
   ]
  },
  {
   "cell_type": "code",
   "execution_count": 12,
   "metadata": {},
   "outputs": [
    {
     "name": "stdout",
     "output_type": "stream",
     "text": [
      "48 48\n"
     ]
    }
   ],
   "source": [
    "print(len(move),len(simi))"
   ]
  },
  {
   "cell_type": "code",
   "execution_count": 13,
   "metadata": {},
   "outputs": [
    {
     "data": {
      "image/png": "[encoded data removed]",
      "text/plain": [
       "<Figure size 432x288 with 1 Axes>"
      ]
     },
     "metadata": {},
     "output_type": "display_data"
    }
   ],
   "source": [
    "plt.scatter(move,simi,marker='.')\n",
    "plt.ylabel('Similarity')\n",
    "plt.xlabel('Percentage Moved')\n",
    "\n",
    "plt.savefig(OUTPUT_GRAPH)"
   ]
  },
  {
   "cell_type": "code",
   "execution_count": 14,
   "metadata": {},
   "outputs": [
    {
     "data": {
      "text/plain": [
       "[(30.1, 0.8262410018176888),\n",
       " (30.1, 0.8252374946405677),\n",
       " (30.5, 0.8455415196248505),\n",
       " (34.3, 0.8261513053627676),\n",
       " (34.3, 0.8267735422279469),\n",
       " (34.4, 0.8580622443502293),\n",
       " (37.4, 0.8708008040806705),\n",
       " (37.5, 0.834984516265617),\n",
       " (37.5, 0.8637135882536592),\n",
       " (40.0, 0.8356004907838182),\n",
       " (40.1, 0.7981888388222347),\n",
       " (40.1, 0.7981185589076162),\n",
       " (43.8, 0.8845785704258529),\n",
       " (43.8, 0.8965941612797843),\n",
       " (43.8, 0.8958454362854362),\n",
       " (47.0, 0.8302929589642741),\n",
       " (46.6, 0.8419493645901496),\n",
       " (46.8, 0.7673648950123467),\n",
       " (50.5, 0.8619433910199029),\n",
       " (50.5, 0.8630935678244706),\n",
       " (50.5, 0.8275962500215961),\n",
       " (52.7, 0.7662099554610806),\n",
       " (53.1, 0.8202887417939958),\n",
       " (53.1, 0.821511587593175),\n",
       " (56.1, 0.7669186965987448),\n",
       " (56.1, 0.7679202597739322),\n",
       " (56.1, 0.8609969131909516),\n",
       " (59.1, 0.8354500603755096),\n",
       " (59.4, 0.8631251058199246),\n",
       " (59.4, 0.8619625203439268),\n",
       " (62.4, 0.766566210754673),\n",
       " (62.4, 0.7771525920342606),\n",
       " (62.5, 0.7664626204098913),\n",
       " (16.0, 0.8757304947749054),\n",
       " (16.0, 0.8765191310579306),\n",
       " (15.3, 0.8752966855967352),\n",
       " (18.7, 0.9452667890897252),\n",
       " (18.6, 0.8386509035603447),\n",
       " (18.8, 0.8384780436150671),\n",
       " (21.8, 0.864241550706105),\n",
       " (21.8, 0.864674193012445),\n",
       " (22.1, 0.8635939078420181),\n",
       " (25.4, 0.8717288972952437),\n",
       " (24.7, 0.9391931939543097),\n",
       " (25.3, 0.8722691526621776),\n",
       " (28.4, 0.8540774121581619),\n",
       " (28.0, 0.8684621292293483),\n",
       " (28.1, 0.7868930243368037)]"
      ]
     },
     "execution_count": 14,
     "metadata": {},
     "output_type": "execute_result"
    }
   ],
   "source": [
    "s=zip(move,simi)\n",
    "list(s)"
   ]
  },
  {
   "cell_type": "code",
   "execution_count": 15,
   "metadata": {},
   "outputs": [
    {
     "name": "stdout",
     "output_type": "stream",
     "text": [
      "256 256 256\n"
     ]
    }
   ],
   "source": [
    "print(len(set(P1).intersection(set(P2))),len(set(P1)),len(set(P2)))"
   ]
  },
  {
   "cell_type": "code",
   "execution_count": 16,
   "metadata": {},
   "outputs": [
    {
     "name": "stdout",
     "output_type": "stream",
     "text": [
      "2297887 256 0.00011140669667394436\n"
     ]
    }
   ],
   "source": [
    "print(len(P2),len(set(P2)),len(set(P2))/len(P2))"
   ]
  },
  {
   "cell_type": "code",
   "execution_count": 17,
   "metadata": {},
   "outputs": [
    {
     "data": {
      "text/plain": [
       "{0,\n",
       " 1,\n",
       " 2,\n",
       " 3,\n",
       " 4,\n",
       " 5,\n",
       " 6,\n",
       " 7,\n",
       " 8,\n",
       " 9,\n",
       " 10,\n",
       " 11,\n",
       " 12,\n",
       " 13,\n",
       " 14,\n",
       " 15,\n",
       " 16,\n",
       " 17,\n",
       " 18,\n",
       " 19,\n",
       " 20,\n",
       " 21,\n",
       " 22,\n",
       " 23,\n",
       " 24,\n",
       " 25,\n",
       " 26,\n",
       " 27,\n",
       " 28,\n",
       " 29,\n",
       " 30,\n",
       " 31,\n",
       " 32,\n",
       " 33,\n",
       " 34,\n",
       " 35,\n",
       " 36,\n",
       " 37,\n",
       " 38,\n",
       " 39,\n",
       " 40,\n",
       " 41,\n",
       " 42,\n",
       " 43,\n",
       " 44,\n",
       " 45,\n",
       " 46,\n",
       " 47,\n",
       " 48,\n",
       " 49,\n",
       " 50,\n",
       " 51,\n",
       " 52,\n",
       " 53,\n",
       " 54,\n",
       " 55,\n",
       " 56,\n",
       " 57,\n",
       " 58,\n",
       " 59,\n",
       " 60,\n",
       " 61,\n",
       " 62,\n",
       " 63,\n",
       " 64,\n",
       " 65,\n",
       " 66,\n",
       " 67,\n",
       " 68,\n",
       " 69,\n",
       " 70,\n",
       " 71,\n",
       " 72,\n",
       " 73,\n",
       " 74,\n",
       " 75,\n",
       " 76,\n",
       " 77,\n",
       " 78,\n",
       " 79,\n",
       " 80,\n",
       " 81,\n",
       " 82,\n",
       " 83,\n",
       " 84,\n",
       " 85,\n",
       " 86,\n",
       " 87,\n",
       " 88,\n",
       " 89,\n",
       " 90,\n",
       " 91,\n",
       " 92,\n",
       " 93,\n",
       " 94,\n",
       " 95,\n",
       " 96,\n",
       " 97,\n",
       " 98,\n",
       " 99,\n",
       " 100,\n",
       " 101,\n",
       " 102,\n",
       " 103,\n",
       " 104,\n",
       " 105,\n",
       " 106,\n",
       " 107,\n",
       " 108,\n",
       " 109,\n",
       " 110,\n",
       " 111,\n",
       " 112,\n",
       " 113,\n",
       " 114,\n",
       " 115,\n",
       " 116,\n",
       " 117,\n",
       " 118,\n",
       " 119,\n",
       " 120,\n",
       " 121,\n",
       " 122,\n",
       " 123,\n",
       " 124,\n",
       " 125,\n",
       " 126,\n",
       " 127,\n",
       " 128,\n",
       " 129,\n",
       " 130,\n",
       " 131,\n",
       " 132,\n",
       " 133,\n",
       " 134,\n",
       " 135,\n",
       " 136,\n",
       " 137,\n",
       " 138,\n",
       " 139,\n",
       " 140,\n",
       " 141,\n",
       " 142,\n",
       " 143,\n",
       " 144,\n",
       " 145,\n",
       " 146,\n",
       " 147,\n",
       " 148,\n",
       " 149,\n",
       " 150,\n",
       " 151,\n",
       " 152,\n",
       " 153,\n",
       " 154,\n",
       " 155,\n",
       " 156,\n",
       " 157,\n",
       " 158,\n",
       " 159,\n",
       " 160,\n",
       " 161,\n",
       " 162,\n",
       " 163,\n",
       " 164,\n",
       " 165,\n",
       " 166,\n",
       " 167,\n",
       " 168,\n",
       " 169,\n",
       " 170,\n",
       " 171,\n",
       " 172,\n",
       " 173,\n",
       " 174,\n",
       " 175,\n",
       " 176,\n",
       " 177,\n",
       " 178,\n",
       " 179,\n",
       " 180,\n",
       " 181,\n",
       " 182,\n",
       " 183,\n",
       " 184,\n",
       " 185,\n",
       " 186,\n",
       " 187,\n",
       " 188,\n",
       " 189,\n",
       " 190,\n",
       " 191,\n",
       " 192,\n",
       " 193,\n",
       " 194,\n",
       " 195,\n",
       " 196,\n",
       " 197,\n",
       " 198,\n",
       " 199,\n",
       " 200,\n",
       " 201,\n",
       " 202,\n",
       " 203,\n",
       " 204,\n",
       " 205,\n",
       " 206,\n",
       " 207,\n",
       " 208,\n",
       " 209,\n",
       " 210,\n",
       " 211,\n",
       " 212,\n",
       " 213,\n",
       " 214,\n",
       " 215,\n",
       " 216,\n",
       " 217,\n",
       " 218,\n",
       " 219,\n",
       " 220,\n",
       " 221,\n",
       " 222,\n",
       " 223,\n",
       " 224,\n",
       " 225,\n",
       " 226,\n",
       " 227,\n",
       " 228,\n",
       " 229,\n",
       " 230,\n",
       " 231,\n",
       " 232,\n",
       " 233,\n",
       " 234,\n",
       " 235,\n",
       " 236,\n",
       " 237,\n",
       " 238,\n",
       " 239,\n",
       " 240,\n",
       " 241,\n",
       " 242,\n",
       " 243,\n",
       " 244,\n",
       " 245,\n",
       " 246,\n",
       " 247,\n",
       " 248,\n",
       " 249,\n",
       " 250,\n",
       " 251,\n",
       " 252,\n",
       " 253,\n",
       " 254,\n",
       " 255}"
      ]
     },
     "execution_count": 17,
     "metadata": {},
     "output_type": "execute_result"
    }
   ],
   "source": [
    "set(P1).intersection(set(P2))"
   ]
  },
  {
   "cell_type": "code",
   "execution_count": null,
   "metadata": {},
   "outputs": [],
   "source": []
  }
 ],
 "metadata": {
  "kernelspec": {
   "display_name": "Python 3",
   "language": "python",
   "name": "python3"
  },
  "language_info": {
   "codemirror_mode": {
    "name": "ipython",
    "version": 3
   },
   "file_extension": ".py",
   "mimetype": "text/x-python",
   "name": "python",
   "nbconvert_exporter": "python",
   "pygments_lexer": "ipython3",
   "version": "3.6.5"
  }
 },
 "nbformat": 4,
 "nbformat_minor": 2
}
