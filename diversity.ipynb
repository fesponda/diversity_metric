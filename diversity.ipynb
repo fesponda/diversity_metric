{
 "cells": [
  {
   "cell_type": "code",
   "execution_count": 1,
   "metadata": {},
   "outputs": [],
   "source": [
    "from scipy.stats import spearmanr\n",
    "from random import randint\n",
    "import numpy as np"
   ]
  },
  {
   "cell_type": "code",
   "execution_count": 2,
   "metadata": {},
   "outputs": [],
   "source": [
    "def read_ELF_file(file1,file2):\n",
    "    with open(file1, 'rb') as f:\n",
    "        P1=list(f.read())\n",
    "    with open(file2, 'rb') as f:\n",
    "        P2=list(f.read())\n",
    "    return P1,P2\n",
    "\n",
    "\n",
    "#P2=P1"
   ]
  },
  {
   "cell_type": "code",
   "execution_count": 3,
   "metadata": {},
   "outputs": [],
   "source": [
    "def readfile(name):\n",
    "    P1=[]\n",
    "    P2=[]\n",
    "    with open(name) as fp:\n",
    "        lines=fp.readlines()\n",
    "    for line in lines:\n",
    "        l=line.strip().split(',')\n",
    "        P1.append(int(l[0]))\n",
    "        P2.append(int(l[1]))\n",
    "    return P1,P2"
   ]
  },
  {
   "cell_type": "code",
   "execution_count": 4,
   "metadata": {},
   "outputs": [],
   "source": [
    "##Create dictionary. For each byte in the block we create unique entry. If a byte is repeated we append if its the first, second, etc occurrence\n",
    "def P1_dictionary(P1):\n",
    "    P1_dict={}\n",
    "    P1_occ={}\n",
    "    for index,byte in enumerate(P1):   \n",
    "        if byte  in P1_occ.keys():\n",
    "            P1_occ[byte]+=1\n",
    "        else:\n",
    "            P1_occ[byte]=1\n",
    "        value=str(byte)+'_'+str(P1_occ[byte]) ## here we create a unique value for each byte in the section\n",
    "        P1_dict[value]=index+1 #we start to count at 1\n",
    "    return P1_dict"
   ]
  },
  {
   "cell_type": "code",
   "execution_count": 5,
   "metadata": {},
   "outputs": [],
   "source": [
    "####Rank instructions of a block according to first file template\n",
    "def rank_P2(P1_dict,P2,intersection=False):\n",
    "    a=[]        \n",
    "    b=[]\n",
    "    med_rank=len(P1_dict.keys())/2.0\n",
    "    P2_dict={}\n",
    "    P2_occ={}\n",
    "    for index,byte in enumerate(P2):   \n",
    "        if byte  in P2_occ.keys():\n",
    "            P2_occ[byte]+=1\n",
    "        else:\n",
    "            P2_occ[byte]=1\n",
    "        value=str(byte)+'_'+str(P2_occ[byte]) ## here we create a unique value for each byte in the section\n",
    "        if value in P1_dict.keys():\n",
    "            P2_dict[value]=P1_dict[value]\n",
    "            a.append(index+1)\n",
    "            b.append(P2_dict[value])\n",
    "        elif not intersection:\n",
    "            P2_dict[value]=0 ###zero for no existent value....check Maybe not bother, Maybe random, maybe average\n",
    "            P2_dict[value]=med_rank \n",
    "            #P2_dict[value]=randint(1,90)\n",
    "            a.append(index+1)\n",
    "            b.append(P2_dict[value])\n",
    "            \n",
    "    #print(len(a),len(b))\n",
    "    return a,b\n",
    "\n"
   ]
  },
  {
   "cell_type": "code",
   "execution_count": 20,
   "metadata": {},
   "outputs": [
    {
     "data": {
      "text/plain": [
       "SpearmanrResult(correlation=0.3104254247423444, pvalue=0.0)"
      ]
     },
     "execution_count": 20,
     "metadata": {},
     "output_type": "execute_result"
    }
   ],
   "source": [
    "#P1,P2=readfile('fake_data.csv')\n",
    "P1,P2=read_ELF_file('/Users/fernando/Downloads/executables_to_compare/Prueba2/full1',\\\n",
    "              '/Users/fernando/Downloads/executables_to_compare/Prueba/full')\n",
    "P1_dict=P1_dictionary(P1)\n",
    "#P2=[randint(0,255) for i in range(11347489)]\n",
    "a,b=rank_P2(P1_dict,P2,intersection=False)\n",
    "spearmanr(a,b)"
   ]
  },
  {
   "cell_type": "code",
   "execution_count": null,
   "metadata": {},
   "outputs": [
    {
     "name": "stdout",
     "output_type": "stream",
     "text": [
      "orig full SpearmanrResult(correlation=0.6542290487981466, pvalue=0.0)\n",
      "orig full2 SpearmanrResult(correlation=0.2989992493043197, pvalue=0.0)\n",
      "orig full3 SpearmanrResult(correlation=0.10480632916553757, pvalue=0.0)\n",
      "orig slight SpearmanrResult(correlation=0.8034626808745661, pvalue=0.0)\n",
      "orig slight2 SpearmanrResult(correlation=0.804502384534624, pvalue=0.0)\n",
      "orig slight3 SpearmanrResult(correlation=0.8024843861966179, pvalue=0.0)\n",
      "full full2 SpearmanrResult(correlation=0.40858245068075544, pvalue=0.0)\n",
      "full full3 SpearmanrResult(correlation=0.12288198343418762, pvalue=0.0)\n",
      "full slight SpearmanrResult(correlation=0.7592826370668705, pvalue=0.0)\n",
      "full slight2 SpearmanrResult(correlation=0.7593490865746555, pvalue=0.0)\n",
      "full slight3 SpearmanrResult(correlation=0.7588491678637946, pvalue=0.0)\n"
     ]
    }
   ],
   "source": [
    "l=['orig','full','full2','full3','slight','slight2','slight3']\n",
    "for i in range(len(l)):\n",
    "    for j in range(len(l)):\n",
    "        if i<j:\n",
    "            P1,P2=read_ELF_file('/Users/fernando/Downloads/executables_to_compare/Prueba/'+l[i],\\\n",
    "                                '/Users/fernando/Downloads/executables_to_compare/Prueba/'+l[j])\n",
    "            P1_dict=P1_dictionary(P1)\n",
    "            a,b=rank_P2(P1_dict,P2,intersection=False)\n",
    "            print(l[i],l[j],spearmanr(a,b))"
   ]
  },
  {
   "cell_type": "code",
   "execution_count": 13,
   "metadata": {},
   "outputs": [
    {
     "name": "stdout",
     "output_type": "stream",
     "text": [
      "orig full1 SpearmanrResult(correlation=0.668545979618943, pvalue=0.0)\n",
      "orig full2 SpearmanrResult(correlation=0.16198281399392817, pvalue=0.0)\n",
      "orig full3 SpearmanrResult(correlation=0.17315265103779928, pvalue=0.0)\n",
      "orig probBilr1 SpearmanrResult(correlation=0.8482899431356413, pvalue=0.0)\n",
      "orig probBilr2 SpearmanrResult(correlation=0.8569180387712718, pvalue=0.0)\n",
      "orig probBilr3 SpearmanrResult(correlation=0.8596791300786225, pvalue=0.0)\n",
      "orig structNoc1 SpearmanrResult(correlation=0.19672519568929675, pvalue=0.0)\n",
      "orig structNoc2 SpearmanrResult(correlation=0.19434120364818872, pvalue=0.0)\n",
      "orig structNoc3 SpearmanrResult(correlation=0.19202715298757675, pvalue=0.0)\n",
      "full1 full2 SpearmanrResult(correlation=0.9275693524656431, pvalue=0.0)\n",
      "full1 full3 SpearmanrResult(correlation=0.9276557755329945, pvalue=0.0)\n",
      "full1 probBilr1 SpearmanrResult(correlation=0.9818494867916172, pvalue=0.0)\n",
      "full1 probBilr2 SpearmanrResult(correlation=0.9811186740921438, pvalue=0.0)\n",
      "full1 probBilr3 SpearmanrResult(correlation=0.9808478378761306, pvalue=0.0)\n",
      "full1 structNoc1 SpearmanrResult(correlation=0.9325152049939364, pvalue=0.0)\n",
      "full1 structNoc2 SpearmanrResult(correlation=0.932309660074993, pvalue=0.0)\n",
      "full1 structNoc3 SpearmanrResult(correlation=0.931830061954869, pvalue=0.0)\n",
      "full2 full3 SpearmanrResult(correlation=0.9972007554566078, pvalue=0.0)\n",
      "full2 probBilr1 SpearmanrResult(correlation=0.9240548367854599, pvalue=0.0)\n",
      "full2 probBilr2 SpearmanrResult(correlation=0.922137131072612, pvalue=0.0)\n",
      "full2 probBilr3 SpearmanrResult(correlation=0.9217311479231084, pvalue=0.0)\n",
      "full2 structNoc1 SpearmanrResult(correlation=0.9968113828323082, pvalue=0.0)\n",
      "full2 structNoc2 SpearmanrResult(correlation=0.9965396928202265, pvalue=0.0)\n",
      "full2 structNoc3 SpearmanrResult(correlation=0.9961137778200485, pvalue=0.0)\n",
      "full3 probBilr1 SpearmanrResult(correlation=0.9239166331304457, pvalue=0.0)\n",
      "full3 probBilr2 SpearmanrResult(correlation=0.9219746559854175, pvalue=0.0)\n",
      "full3 probBilr3 SpearmanrResult(correlation=0.9215264288412683, pvalue=0.0)\n",
      "full3 structNoc1 SpearmanrResult(correlation=0.9961920717655736, pvalue=0.0)\n",
      "full3 structNoc2 SpearmanrResult(correlation=0.9962947280581239, pvalue=0.0)\n",
      "full3 structNoc3 SpearmanrResult(correlation=0.9961461143217006, pvalue=0.0)\n",
      "probBilr1 probBilr2 SpearmanrResult(correlation=0.9966777025379677, pvalue=0.0)\n",
      "probBilr1 probBilr3 SpearmanrResult(correlation=0.9963405711256745, pvalue=0.0)\n",
      "probBilr1 structNoc1 SpearmanrResult(correlation=0.9233251012500926, pvalue=0.0)\n",
      "probBilr1 structNoc2 SpearmanrResult(correlation=0.9232147451352877, pvalue=0.0)\n",
      "probBilr1 structNoc3 SpearmanrResult(correlation=0.9229863566141754, pvalue=0.0)\n",
      "probBilr2 probBilr3 SpearmanrResult(correlation=0.9979134425620789, pvalue=0.0)\n",
      "probBilr2 structNoc1 SpearmanrResult(correlation=0.9216120961487375, pvalue=0.0)\n",
      "probBilr2 structNoc2 SpearmanrResult(correlation=0.921410561418537, pvalue=0.0)\n",
      "probBilr2 structNoc3 SpearmanrResult(correlation=0.921328089190483, pvalue=0.0)\n",
      "probBilr3 structNoc1 SpearmanrResult(correlation=0.9210878579810065, pvalue=0.0)\n",
      "probBilr3 structNoc2 SpearmanrResult(correlation=0.9208791832305281, pvalue=0.0)\n",
      "probBilr3 structNoc3 SpearmanrResult(correlation=0.9207662058727482, pvalue=0.0)\n",
      "structNoc1 structNoc2 SpearmanrResult(correlation=0.9987347129153271, pvalue=0.0)\n",
      "structNoc1 structNoc3 SpearmanrResult(correlation=0.9983357456827265, pvalue=0.0)\n",
      "structNoc2 structNoc3 SpearmanrResult(correlation=0.998614789281786, pvalue=0.0)\n"
     ]
    }
   ],
   "source": [
    "l=['orig','full1','full2','full3','probBilr1','probBilr2','probBilr3','structNoc1','structNoc2','structNoc3']\n",
    "for i in range(len(l)):\n",
    "    for j in range(len(l)):\n",
    "        if i<j:\n",
    "            P1,P2=read_ELF_file('/Users/fernando/Downloads/executables_to_compare/Prueba2/'+l[i],\\\n",
    "                                '/Users/fernando/Downloads/executables_to_compare/Prueba2/'+l[j])\n",
    "            P1_dict=P1_dictionary(P1)\n",
    "            a,b=rank_P2(P1_dict,P2,intersection=True)\n",
    "            print(l[i],l[j],spearmanr(a,b))"
   ]
  },
  {
   "cell_type": "code",
   "execution_count": 97,
   "metadata": {},
   "outputs": [
    {
     "data": {
      "text/plain": [
       "['orig', 'full', 'full2', 'full3', 'slight', 'slight2', 'slight3']"
      ]
     },
     "execution_count": 97,
     "metadata": {},
     "output_type": "execute_result"
    }
   ],
   "source": [
    "l"
   ]
  },
  {
   "cell_type": "code",
   "execution_count": 117,
   "metadata": {},
   "outputs": [
    {
     "data": {
      "text/plain": [
       "SpearmanrResult(correlation=-0.0013367994100545264, pvalue=0.9739325679258768)"
      ]
     },
     "execution_count": 117,
     "metadata": {},
     "output_type": "execute_result"
    }
   ],
   "source": [
    "corr,p=spearmanr([randint(1,90) for i in range(600)],[randint(1,90) for i in range(600)])"
   ]
  },
  {
   "cell_type": "code",
   "execution_count": 109,
   "metadata": {},
   "outputs": [
    {
     "data": {
      "text/plain": [
       "-0.11000392113731881"
      ]
     },
     "execution_count": 109,
     "metadata": {},
     "output_type": "execute_result"
    }
   ],
   "source": [
    "p"
   ]
  },
  {
   "cell_type": "code",
   "execution_count": 9,
   "metadata": {},
   "outputs": [
    {
     "data": {
      "text/plain": [
       "6652"
      ]
     },
     "execution_count": 9,
     "metadata": {},
     "output_type": "execute_result"
    }
   ],
   "source": [
    "len(P1)"
   ]
  },
  {
   "cell_type": "code",
   "execution_count": null,
   "metadata": {},
   "outputs": [],
   "source": []
  }
 ],
 "metadata": {
  "kernelspec": {
   "display_name": "Python 3",
   "language": "python",
   "name": "python3"
  },
  "language_info": {
   "codemirror_mode": {
    "name": "ipython",
    "version": 3
   },
   "file_extension": ".py",
   "mimetype": "text/x-python",
   "name": "python",
   "nbconvert_exporter": "python",
   "pygments_lexer": "ipython3",
   "version": "3.6.4"
  }
 },
 "nbformat": 4,
 "nbformat_minor": 2
}
